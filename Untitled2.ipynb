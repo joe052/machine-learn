{
  "nbformat": 4,
  "nbformat_minor": 0,
  "metadata": {
    "colab": {
      "provenance": [],
      "authorship_tag": "ABX9TyO8YKToHUpSRrVEp361ZaIt",
      "include_colab_link": true
    },
    "kernelspec": {
      "name": "python3",
      "display_name": "Python 3"
    },
    "language_info": {
      "name": "python"
    }
  },
  "cells": [
    {
      "cell_type": "markdown",
      "metadata": {
        "id": "view-in-github",
        "colab_type": "text"
      },
      "source": [
        "<a href=\"https://colab.research.google.com/github/joe052/machine-learn/blob/main/Untitled2.ipynb\" target=\"_parent\"><img src=\"https://colab.research.google.com/assets/colab-badge.svg\" alt=\"Open In Colab\"/></a>"
      ]
    },
    {
      "cell_type": "code",
      "execution_count": null,
      "metadata": {
        "id": "yEfQ6wupklWc"
      },
      "outputs": [],
      "source": [
        "import pandas as pd \n",
        "import numpy as np \n",
        "import seaborn as sns \n",
        "import matplotlib.pyplot as plt\n",
        "import plotly.express as px\n",
        "from plotly.subplots import make_subplots\n",
        "import plotly.graph_objects as go\n",
        "import plotly\n",
        "\n",
        "import warnings\n",
        "warnings.filterwarnings(\"ignore\")\n",
        "\n",
        "from sklearn.metrics import confusion_matrix,accuracy_score,f1_score,precision_score,plot_roc_curve,accuracy_score,recall_score\n",
        "from sklearn.metrics import plot_confusion_matrix"
      ]
    },
    {
      "cell_type": "markdown",
      "source": [
        "uploading the  data"
      ],
      "metadata": {
        "id": "uGIeqcq_nnmh"
      }
    },
    {
      "cell_type": "code",
      "source": [
        "import os\n",
        "for dirname, _, filenames in os.walk('/kaggle/input'):\n",
        "  for filename in filenames:\n",
        "    print(os.path.join(dirname, filename))"
      ],
      "metadata": {
        "id": "7R3BfaXg4CdY"
      },
      "execution_count": null,
      "outputs": []
    },
    {
      "cell_type": "code",
      "source": [
        "from google.colab import files\n",
        "uploaded = files.upload()\n"
      ],
      "metadata": {
        "id": "8FzqQgrW44Oo",
        "outputId": "ed35dad0-b7d1-480d-fd4b-a69e20655ba7",
        "colab": {
          "base_uri": "https://localhost:8080/",
          "height": 73
        }
      },
      "execution_count": null,
      "outputs": [
        {
          "output_type": "display_data",
          "data": {
            "text/plain": [
              "<IPython.core.display.HTML object>"
            ],
            "text/html": [
              "\n",
              "     <input type=\"file\" id=\"files-973f6478-1b2b-402b-b60b-f73e62ed29d0\" name=\"files[]\" multiple disabled\n",
              "        style=\"border:none\" />\n",
              "     <output id=\"result-973f6478-1b2b-402b-b60b-f73e62ed29d0\">\n",
              "      Upload widget is only available when the cell has been executed in the\n",
              "      current browser session. Please rerun this cell to enable.\n",
              "      </output>\n",
              "      <script>// Copyright 2017 Google LLC\n",
              "//\n",
              "// Licensed under the Apache License, Version 2.0 (the \"License\");\n",
              "// you may not use this file except in compliance with the License.\n",
              "// You may obtain a copy of the License at\n",
              "//\n",
              "//      http://www.apache.org/licenses/LICENSE-2.0\n",
              "//\n",
              "// Unless required by applicable law or agreed to in writing, software\n",
              "// distributed under the License is distributed on an \"AS IS\" BASIS,\n",
              "// WITHOUT WARRANTIES OR CONDITIONS OF ANY KIND, either express or implied.\n",
              "// See the License for the specific language governing permissions and\n",
              "// limitations under the License.\n",
              "\n",
              "/**\n",
              " * @fileoverview Helpers for google.colab Python module.\n",
              " */\n",
              "(function(scope) {\n",
              "function span(text, styleAttributes = {}) {\n",
              "  const element = document.createElement('span');\n",
              "  element.textContent = text;\n",
              "  for (const key of Object.keys(styleAttributes)) {\n",
              "    element.style[key] = styleAttributes[key];\n",
              "  }\n",
              "  return element;\n",
              "}\n",
              "\n",
              "// Max number of bytes which will be uploaded at a time.\n",
              "const MAX_PAYLOAD_SIZE = 100 * 1024;\n",
              "\n",
              "function _uploadFiles(inputId, outputId) {\n",
              "  const steps = uploadFilesStep(inputId, outputId);\n",
              "  const outputElement = document.getElementById(outputId);\n",
              "  // Cache steps on the outputElement to make it available for the next call\n",
              "  // to uploadFilesContinue from Python.\n",
              "  outputElement.steps = steps;\n",
              "\n",
              "  return _uploadFilesContinue(outputId);\n",
              "}\n",
              "\n",
              "// This is roughly an async generator (not supported in the browser yet),\n",
              "// where there are multiple asynchronous steps and the Python side is going\n",
              "// to poll for completion of each step.\n",
              "// This uses a Promise to block the python side on completion of each step,\n",
              "// then passes the result of the previous step as the input to the next step.\n",
              "function _uploadFilesContinue(outputId) {\n",
              "  const outputElement = document.getElementById(outputId);\n",
              "  const steps = outputElement.steps;\n",
              "\n",
              "  const next = steps.next(outputElement.lastPromiseValue);\n",
              "  return Promise.resolve(next.value.promise).then((value) => {\n",
              "    // Cache the last promise value to make it available to the next\n",
              "    // step of the generator.\n",
              "    outputElement.lastPromiseValue = value;\n",
              "    return next.value.response;\n",
              "  });\n",
              "}\n",
              "\n",
              "/**\n",
              " * Generator function which is called between each async step of the upload\n",
              " * process.\n",
              " * @param {string} inputId Element ID of the input file picker element.\n",
              " * @param {string} outputId Element ID of the output display.\n",
              " * @return {!Iterable<!Object>} Iterable of next steps.\n",
              " */\n",
              "function* uploadFilesStep(inputId, outputId) {\n",
              "  const inputElement = document.getElementById(inputId);\n",
              "  inputElement.disabled = false;\n",
              "\n",
              "  const outputElement = document.getElementById(outputId);\n",
              "  outputElement.innerHTML = '';\n",
              "\n",
              "  const pickedPromise = new Promise((resolve) => {\n",
              "    inputElement.addEventListener('change', (e) => {\n",
              "      resolve(e.target.files);\n",
              "    });\n",
              "  });\n",
              "\n",
              "  const cancel = document.createElement('button');\n",
              "  inputElement.parentElement.appendChild(cancel);\n",
              "  cancel.textContent = 'Cancel upload';\n",
              "  const cancelPromise = new Promise((resolve) => {\n",
              "    cancel.onclick = () => {\n",
              "      resolve(null);\n",
              "    };\n",
              "  });\n",
              "\n",
              "  // Wait for the user to pick the files.\n",
              "  const files = yield {\n",
              "    promise: Promise.race([pickedPromise, cancelPromise]),\n",
              "    response: {\n",
              "      action: 'starting',\n",
              "    }\n",
              "  };\n",
              "\n",
              "  cancel.remove();\n",
              "\n",
              "  // Disable the input element since further picks are not allowed.\n",
              "  inputElement.disabled = true;\n",
              "\n",
              "  if (!files) {\n",
              "    return {\n",
              "      response: {\n",
              "        action: 'complete',\n",
              "      }\n",
              "    };\n",
              "  }\n",
              "\n",
              "  for (const file of files) {\n",
              "    const li = document.createElement('li');\n",
              "    li.append(span(file.name, {fontWeight: 'bold'}));\n",
              "    li.append(span(\n",
              "        `(${file.type || 'n/a'}) - ${file.size} bytes, ` +\n",
              "        `last modified: ${\n",
              "            file.lastModifiedDate ? file.lastModifiedDate.toLocaleDateString() :\n",
              "                                    'n/a'} - `));\n",
              "    const percent = span('0% done');\n",
              "    li.appendChild(percent);\n",
              "\n",
              "    outputElement.appendChild(li);\n",
              "\n",
              "    const fileDataPromise = new Promise((resolve) => {\n",
              "      const reader = new FileReader();\n",
              "      reader.onload = (e) => {\n",
              "        resolve(e.target.result);\n",
              "      };\n",
              "      reader.readAsArrayBuffer(file);\n",
              "    });\n",
              "    // Wait for the data to be ready.\n",
              "    let fileData = yield {\n",
              "      promise: fileDataPromise,\n",
              "      response: {\n",
              "        action: 'continue',\n",
              "      }\n",
              "    };\n",
              "\n",
              "    // Use a chunked sending to avoid message size limits. See b/62115660.\n",
              "    let position = 0;\n",
              "    do {\n",
              "      const length = Math.min(fileData.byteLength - position, MAX_PAYLOAD_SIZE);\n",
              "      const chunk = new Uint8Array(fileData, position, length);\n",
              "      position += length;\n",
              "\n",
              "      const base64 = btoa(String.fromCharCode.apply(null, chunk));\n",
              "      yield {\n",
              "        response: {\n",
              "          action: 'append',\n",
              "          file: file.name,\n",
              "          data: base64,\n",
              "        },\n",
              "      };\n",
              "\n",
              "      let percentDone = fileData.byteLength === 0 ?\n",
              "          100 :\n",
              "          Math.round((position / fileData.byteLength) * 100);\n",
              "      percent.textContent = `${percentDone}% done`;\n",
              "\n",
              "    } while (position < fileData.byteLength);\n",
              "  }\n",
              "\n",
              "  // All done.\n",
              "  yield {\n",
              "    response: {\n",
              "      action: 'complete',\n",
              "    }\n",
              "  };\n",
              "}\n",
              "\n",
              "scope.google = scope.google || {};\n",
              "scope.google.colab = scope.google.colab || {};\n",
              "scope.google.colab._files = {\n",
              "  _uploadFiles,\n",
              "  _uploadFilesContinue,\n",
              "};\n",
              "})(self);\n",
              "</script> "
            ]
          },
          "metadata": {}
        },
        {
          "output_type": "stream",
          "name": "stdout",
          "text": [
            "Saving creditcard.csv to creditcard.csv\n"
          ]
        }
      ]
    },
    {
      "cell_type": "markdown",
      "source": [
        "loadind the data"
      ],
      "metadata": {
        "id": "VwlndKcjDYmY"
      }
    },
    {
      "cell_type": "code",
      "source": [
        "data = pd.read_csv(\"creditcard.csv\")"
      ],
      "metadata": {
        "id": "g8mPpTzzDfRA"
      },
      "execution_count": null,
      "outputs": []
    },
    {
      "cell_type": "code",
      "source": [
        "data.head()"
      ],
      "metadata": {
        "id": "OO6gVYZ3Eo6I",
        "outputId": "c8af4cb3-d06e-41c6-df26-1a3b66a25c79",
        "colab": {
          "base_uri": "https://localhost:8080/",
          "height": 236
        }
      },
      "execution_count": null,
      "outputs": [
        {
          "output_type": "execute_result",
          "data": {
            "text/plain": [
              "   Time        V1        V2        V3        V4        V5        V6        V7  \\\n",
              "0   0.0 -1.359807 -0.072781  2.536347  1.378155 -0.338321  0.462388  0.239599   \n",
              "1   0.0  1.191857  0.266151  0.166480  0.448154  0.060018 -0.082361 -0.078803   \n",
              "2   1.0 -1.358354 -1.340163  1.773209  0.379780 -0.503198  1.800499  0.791461   \n",
              "3   1.0 -0.966272 -0.185226  1.792993 -0.863291 -0.010309  1.247203  0.237609   \n",
              "4   2.0 -1.158233  0.877737  1.548718  0.403034 -0.407193  0.095921  0.592941   \n",
              "\n",
              "         V8        V9  ...       V21       V22       V23       V24       V25  \\\n",
              "0  0.098698  0.363787  ... -0.018307  0.277838 -0.110474  0.066928  0.128539   \n",
              "1  0.085102 -0.255425  ... -0.225775 -0.638672  0.101288 -0.339846  0.167170   \n",
              "2  0.247676 -1.514654  ...  0.247998  0.771679  0.909412 -0.689281 -0.327642   \n",
              "3  0.377436 -1.387024  ... -0.108300  0.005274 -0.190321 -1.175575  0.647376   \n",
              "4 -0.270533  0.817739  ... -0.009431  0.798278 -0.137458  0.141267 -0.206010   \n",
              "\n",
              "        V26       V27       V28  Amount  Class  \n",
              "0 -0.189115  0.133558 -0.021053  149.62      0  \n",
              "1  0.125895 -0.008983  0.014724    2.69      0  \n",
              "2 -0.139097 -0.055353 -0.059752  378.66      0  \n",
              "3 -0.221929  0.062723  0.061458  123.50      0  \n",
              "4  0.502292  0.219422  0.215153   69.99      0  \n",
              "\n",
              "[5 rows x 31 columns]"
            ],
            "text/html": [
              "\n",
              "  <div id=\"df-f96a7942-1f08-4f2b-9221-88d16417b940\">\n",
              "    <div class=\"colab-df-container\">\n",
              "      <div>\n",
              "<style scoped>\n",
              "    .dataframe tbody tr th:only-of-type {\n",
              "        vertical-align: middle;\n",
              "    }\n",
              "\n",
              "    .dataframe tbody tr th {\n",
              "        vertical-align: top;\n",
              "    }\n",
              "\n",
              "    .dataframe thead th {\n",
              "        text-align: right;\n",
              "    }\n",
              "</style>\n",
              "<table border=\"1\" class=\"dataframe\">\n",
              "  <thead>\n",
              "    <tr style=\"text-align: right;\">\n",
              "      <th></th>\n",
              "      <th>Time</th>\n",
              "      <th>V1</th>\n",
              "      <th>V2</th>\n",
              "      <th>V3</th>\n",
              "      <th>V4</th>\n",
              "      <th>V5</th>\n",
              "      <th>V6</th>\n",
              "      <th>V7</th>\n",
              "      <th>V8</th>\n",
              "      <th>V9</th>\n",
              "      <th>...</th>\n",
              "      <th>V21</th>\n",
              "      <th>V22</th>\n",
              "      <th>V23</th>\n",
              "      <th>V24</th>\n",
              "      <th>V25</th>\n",
              "      <th>V26</th>\n",
              "      <th>V27</th>\n",
              "      <th>V28</th>\n",
              "      <th>Amount</th>\n",
              "      <th>Class</th>\n",
              "    </tr>\n",
              "  </thead>\n",
              "  <tbody>\n",
              "    <tr>\n",
              "      <th>0</th>\n",
              "      <td>0.0</td>\n",
              "      <td>-1.359807</td>\n",
              "      <td>-0.072781</td>\n",
              "      <td>2.536347</td>\n",
              "      <td>1.378155</td>\n",
              "      <td>-0.338321</td>\n",
              "      <td>0.462388</td>\n",
              "      <td>0.239599</td>\n",
              "      <td>0.098698</td>\n",
              "      <td>0.363787</td>\n",
              "      <td>...</td>\n",
              "      <td>-0.018307</td>\n",
              "      <td>0.277838</td>\n",
              "      <td>-0.110474</td>\n",
              "      <td>0.066928</td>\n",
              "      <td>0.128539</td>\n",
              "      <td>-0.189115</td>\n",
              "      <td>0.133558</td>\n",
              "      <td>-0.021053</td>\n",
              "      <td>149.62</td>\n",
              "      <td>0</td>\n",
              "    </tr>\n",
              "    <tr>\n",
              "      <th>1</th>\n",
              "      <td>0.0</td>\n",
              "      <td>1.191857</td>\n",
              "      <td>0.266151</td>\n",
              "      <td>0.166480</td>\n",
              "      <td>0.448154</td>\n",
              "      <td>0.060018</td>\n",
              "      <td>-0.082361</td>\n",
              "      <td>-0.078803</td>\n",
              "      <td>0.085102</td>\n",
              "      <td>-0.255425</td>\n",
              "      <td>...</td>\n",
              "      <td>-0.225775</td>\n",
              "      <td>-0.638672</td>\n",
              "      <td>0.101288</td>\n",
              "      <td>-0.339846</td>\n",
              "      <td>0.167170</td>\n",
              "      <td>0.125895</td>\n",
              "      <td>-0.008983</td>\n",
              "      <td>0.014724</td>\n",
              "      <td>2.69</td>\n",
              "      <td>0</td>\n",
              "    </tr>\n",
              "    <tr>\n",
              "      <th>2</th>\n",
              "      <td>1.0</td>\n",
              "      <td>-1.358354</td>\n",
              "      <td>-1.340163</td>\n",
              "      <td>1.773209</td>\n",
              "      <td>0.379780</td>\n",
              "      <td>-0.503198</td>\n",
              "      <td>1.800499</td>\n",
              "      <td>0.791461</td>\n",
              "      <td>0.247676</td>\n",
              "      <td>-1.514654</td>\n",
              "      <td>...</td>\n",
              "      <td>0.247998</td>\n",
              "      <td>0.771679</td>\n",
              "      <td>0.909412</td>\n",
              "      <td>-0.689281</td>\n",
              "      <td>-0.327642</td>\n",
              "      <td>-0.139097</td>\n",
              "      <td>-0.055353</td>\n",
              "      <td>-0.059752</td>\n",
              "      <td>378.66</td>\n",
              "      <td>0</td>\n",
              "    </tr>\n",
              "    <tr>\n",
              "      <th>3</th>\n",
              "      <td>1.0</td>\n",
              "      <td>-0.966272</td>\n",
              "      <td>-0.185226</td>\n",
              "      <td>1.792993</td>\n",
              "      <td>-0.863291</td>\n",
              "      <td>-0.010309</td>\n",
              "      <td>1.247203</td>\n",
              "      <td>0.237609</td>\n",
              "      <td>0.377436</td>\n",
              "      <td>-1.387024</td>\n",
              "      <td>...</td>\n",
              "      <td>-0.108300</td>\n",
              "      <td>0.005274</td>\n",
              "      <td>-0.190321</td>\n",
              "      <td>-1.175575</td>\n",
              "      <td>0.647376</td>\n",
              "      <td>-0.221929</td>\n",
              "      <td>0.062723</td>\n",
              "      <td>0.061458</td>\n",
              "      <td>123.50</td>\n",
              "      <td>0</td>\n",
              "    </tr>\n",
              "    <tr>\n",
              "      <th>4</th>\n",
              "      <td>2.0</td>\n",
              "      <td>-1.158233</td>\n",
              "      <td>0.877737</td>\n",
              "      <td>1.548718</td>\n",
              "      <td>0.403034</td>\n",
              "      <td>-0.407193</td>\n",
              "      <td>0.095921</td>\n",
              "      <td>0.592941</td>\n",
              "      <td>-0.270533</td>\n",
              "      <td>0.817739</td>\n",
              "      <td>...</td>\n",
              "      <td>-0.009431</td>\n",
              "      <td>0.798278</td>\n",
              "      <td>-0.137458</td>\n",
              "      <td>0.141267</td>\n",
              "      <td>-0.206010</td>\n",
              "      <td>0.502292</td>\n",
              "      <td>0.219422</td>\n",
              "      <td>0.215153</td>\n",
              "      <td>69.99</td>\n",
              "      <td>0</td>\n",
              "    </tr>\n",
              "  </tbody>\n",
              "</table>\n",
              "<p>5 rows × 31 columns</p>\n",
              "</div>\n",
              "      <button class=\"colab-df-convert\" onclick=\"convertToInteractive('df-f96a7942-1f08-4f2b-9221-88d16417b940')\"\n",
              "              title=\"Convert this dataframe to an interactive table.\"\n",
              "              style=\"display:none;\">\n",
              "        \n",
              "  <svg xmlns=\"http://www.w3.org/2000/svg\" height=\"24px\"viewBox=\"0 0 24 24\"\n",
              "       width=\"24px\">\n",
              "    <path d=\"M0 0h24v24H0V0z\" fill=\"none\"/>\n",
              "    <path d=\"M18.56 5.44l.94 2.06.94-2.06 2.06-.94-2.06-.94-.94-2.06-.94 2.06-2.06.94zm-11 1L8.5 8.5l.94-2.06 2.06-.94-2.06-.94L8.5 2.5l-.94 2.06-2.06.94zm10 10l.94 2.06.94-2.06 2.06-.94-2.06-.94-.94-2.06-.94 2.06-2.06.94z\"/><path d=\"M17.41 7.96l-1.37-1.37c-.4-.4-.92-.59-1.43-.59-.52 0-1.04.2-1.43.59L10.3 9.45l-7.72 7.72c-.78.78-.78 2.05 0 2.83L4 21.41c.39.39.9.59 1.41.59.51 0 1.02-.2 1.41-.59l7.78-7.78 2.81-2.81c.8-.78.8-2.07 0-2.86zM5.41 20L4 18.59l7.72-7.72 1.47 1.35L5.41 20z\"/>\n",
              "  </svg>\n",
              "      </button>\n",
              "      \n",
              "  <style>\n",
              "    .colab-df-container {\n",
              "      display:flex;\n",
              "      flex-wrap:wrap;\n",
              "      gap: 12px;\n",
              "    }\n",
              "\n",
              "    .colab-df-convert {\n",
              "      background-color: #E8F0FE;\n",
              "      border: none;\n",
              "      border-radius: 50%;\n",
              "      cursor: pointer;\n",
              "      display: none;\n",
              "      fill: #1967D2;\n",
              "      height: 32px;\n",
              "      padding: 0 0 0 0;\n",
              "      width: 32px;\n",
              "    }\n",
              "\n",
              "    .colab-df-convert:hover {\n",
              "      background-color: #E2EBFA;\n",
              "      box-shadow: 0px 1px 2px rgba(60, 64, 67, 0.3), 0px 1px 3px 1px rgba(60, 64, 67, 0.15);\n",
              "      fill: #174EA6;\n",
              "    }\n",
              "\n",
              "    [theme=dark] .colab-df-convert {\n",
              "      background-color: #3B4455;\n",
              "      fill: #D2E3FC;\n",
              "    }\n",
              "\n",
              "    [theme=dark] .colab-df-convert:hover {\n",
              "      background-color: #434B5C;\n",
              "      box-shadow: 0px 1px 3px 1px rgba(0, 0, 0, 0.15);\n",
              "      filter: drop-shadow(0px 1px 2px rgba(0, 0, 0, 0.3));\n",
              "      fill: #FFFFFF;\n",
              "    }\n",
              "  </style>\n",
              "\n",
              "      <script>\n",
              "        const buttonEl =\n",
              "          document.querySelector('#df-f96a7942-1f08-4f2b-9221-88d16417b940 button.colab-df-convert');\n",
              "        buttonEl.style.display =\n",
              "          google.colab.kernel.accessAllowed ? 'block' : 'none';\n",
              "\n",
              "        async function convertToInteractive(key) {\n",
              "          const element = document.querySelector('#df-f96a7942-1f08-4f2b-9221-88d16417b940');\n",
              "          const dataTable =\n",
              "            await google.colab.kernel.invokeFunction('convertToInteractive',\n",
              "                                                     [key], {});\n",
              "          if (!dataTable) return;\n",
              "\n",
              "          const docLinkHtml = 'Like what you see? Visit the ' +\n",
              "            '<a target=\"_blank\" href=https://colab.research.google.com/notebooks/data_table.ipynb>data table notebook</a>'\n",
              "            + ' to learn more about interactive tables.';\n",
              "          element.innerHTML = '';\n",
              "          dataTable['output_type'] = 'display_data';\n",
              "          await google.colab.output.renderOutput(dataTable, element);\n",
              "          const docLink = document.createElement('div');\n",
              "          docLink.innerHTML = docLinkHtml;\n",
              "          element.appendChild(docLink);\n",
              "        }\n",
              "      </script>\n",
              "    </div>\n",
              "  </div>\n",
              "  "
            ]
          },
          "metadata": {},
          "execution_count": 11
        }
      ]
    },
    {
      "cell_type": "code",
      "source": [
        "data.tail()"
      ],
      "metadata": {
        "id": "Zv6cZ6wWVB9X",
        "outputId": "283ae26a-5f1f-431c-87c8-6ee1448300b9",
        "colab": {
          "base_uri": "https://localhost:8080/",
          "height": 236
        }
      },
      "execution_count": null,
      "outputs": [
        {
          "output_type": "execute_result",
          "data": {
            "text/plain": [
              "            Time         V1         V2        V3        V4        V5  \\\n",
              "284802  172786.0 -11.881118  10.071785 -9.834783 -2.066656 -5.364473   \n",
              "284803  172787.0  -0.732789  -0.055080  2.035030 -0.738589  0.868229   \n",
              "284804  172788.0   1.919565  -0.301254 -3.249640 -0.557828  2.630515   \n",
              "284805  172788.0  -0.240440   0.530483  0.702510  0.689799 -0.377961   \n",
              "284806  172792.0  -0.533413  -0.189733  0.703337 -0.506271 -0.012546   \n",
              "\n",
              "              V6        V7        V8        V9  ...       V21       V22  \\\n",
              "284802 -2.606837 -4.918215  7.305334  1.914428  ...  0.213454  0.111864   \n",
              "284803  1.058415  0.024330  0.294869  0.584800  ...  0.214205  0.924384   \n",
              "284804  3.031260 -0.296827  0.708417  0.432454  ...  0.232045  0.578229   \n",
              "284805  0.623708 -0.686180  0.679145  0.392087  ...  0.265245  0.800049   \n",
              "284806 -0.649617  1.577006 -0.414650  0.486180  ...  0.261057  0.643078   \n",
              "\n",
              "             V23       V24       V25       V26       V27       V28  Amount  \\\n",
              "284802  1.014480 -0.509348  1.436807  0.250034  0.943651  0.823731    0.77   \n",
              "284803  0.012463 -1.016226 -0.606624 -0.395255  0.068472 -0.053527   24.79   \n",
              "284804 -0.037501  0.640134  0.265745 -0.087371  0.004455 -0.026561   67.88   \n",
              "284805 -0.163298  0.123205 -0.569159  0.546668  0.108821  0.104533   10.00   \n",
              "284806  0.376777  0.008797 -0.473649 -0.818267 -0.002415  0.013649  217.00   \n",
              "\n",
              "        Class  \n",
              "284802      0  \n",
              "284803      0  \n",
              "284804      0  \n",
              "284805      0  \n",
              "284806      0  \n",
              "\n",
              "[5 rows x 31 columns]"
            ],
            "text/html": [
              "\n",
              "  <div id=\"df-55c31fbc-d9f1-48a5-8596-6e45d66b65f1\">\n",
              "    <div class=\"colab-df-container\">\n",
              "      <div>\n",
              "<style scoped>\n",
              "    .dataframe tbody tr th:only-of-type {\n",
              "        vertical-align: middle;\n",
              "    }\n",
              "\n",
              "    .dataframe tbody tr th {\n",
              "        vertical-align: top;\n",
              "    }\n",
              "\n",
              "    .dataframe thead th {\n",
              "        text-align: right;\n",
              "    }\n",
              "</style>\n",
              "<table border=\"1\" class=\"dataframe\">\n",
              "  <thead>\n",
              "    <tr style=\"text-align: right;\">\n",
              "      <th></th>\n",
              "      <th>Time</th>\n",
              "      <th>V1</th>\n",
              "      <th>V2</th>\n",
              "      <th>V3</th>\n",
              "      <th>V4</th>\n",
              "      <th>V5</th>\n",
              "      <th>V6</th>\n",
              "      <th>V7</th>\n",
              "      <th>V8</th>\n",
              "      <th>V9</th>\n",
              "      <th>...</th>\n",
              "      <th>V21</th>\n",
              "      <th>V22</th>\n",
              "      <th>V23</th>\n",
              "      <th>V24</th>\n",
              "      <th>V25</th>\n",
              "      <th>V26</th>\n",
              "      <th>V27</th>\n",
              "      <th>V28</th>\n",
              "      <th>Amount</th>\n",
              "      <th>Class</th>\n",
              "    </tr>\n",
              "  </thead>\n",
              "  <tbody>\n",
              "    <tr>\n",
              "      <th>284802</th>\n",
              "      <td>172786.0</td>\n",
              "      <td>-11.881118</td>\n",
              "      <td>10.071785</td>\n",
              "      <td>-9.834783</td>\n",
              "      <td>-2.066656</td>\n",
              "      <td>-5.364473</td>\n",
              "      <td>-2.606837</td>\n",
              "      <td>-4.918215</td>\n",
              "      <td>7.305334</td>\n",
              "      <td>1.914428</td>\n",
              "      <td>...</td>\n",
              "      <td>0.213454</td>\n",
              "      <td>0.111864</td>\n",
              "      <td>1.014480</td>\n",
              "      <td>-0.509348</td>\n",
              "      <td>1.436807</td>\n",
              "      <td>0.250034</td>\n",
              "      <td>0.943651</td>\n",
              "      <td>0.823731</td>\n",
              "      <td>0.77</td>\n",
              "      <td>0</td>\n",
              "    </tr>\n",
              "    <tr>\n",
              "      <th>284803</th>\n",
              "      <td>172787.0</td>\n",
              "      <td>-0.732789</td>\n",
              "      <td>-0.055080</td>\n",
              "      <td>2.035030</td>\n",
              "      <td>-0.738589</td>\n",
              "      <td>0.868229</td>\n",
              "      <td>1.058415</td>\n",
              "      <td>0.024330</td>\n",
              "      <td>0.294869</td>\n",
              "      <td>0.584800</td>\n",
              "      <td>...</td>\n",
              "      <td>0.214205</td>\n",
              "      <td>0.924384</td>\n",
              "      <td>0.012463</td>\n",
              "      <td>-1.016226</td>\n",
              "      <td>-0.606624</td>\n",
              "      <td>-0.395255</td>\n",
              "      <td>0.068472</td>\n",
              "      <td>-0.053527</td>\n",
              "      <td>24.79</td>\n",
              "      <td>0</td>\n",
              "    </tr>\n",
              "    <tr>\n",
              "      <th>284804</th>\n",
              "      <td>172788.0</td>\n",
              "      <td>1.919565</td>\n",
              "      <td>-0.301254</td>\n",
              "      <td>-3.249640</td>\n",
              "      <td>-0.557828</td>\n",
              "      <td>2.630515</td>\n",
              "      <td>3.031260</td>\n",
              "      <td>-0.296827</td>\n",
              "      <td>0.708417</td>\n",
              "      <td>0.432454</td>\n",
              "      <td>...</td>\n",
              "      <td>0.232045</td>\n",
              "      <td>0.578229</td>\n",
              "      <td>-0.037501</td>\n",
              "      <td>0.640134</td>\n",
              "      <td>0.265745</td>\n",
              "      <td>-0.087371</td>\n",
              "      <td>0.004455</td>\n",
              "      <td>-0.026561</td>\n",
              "      <td>67.88</td>\n",
              "      <td>0</td>\n",
              "    </tr>\n",
              "    <tr>\n",
              "      <th>284805</th>\n",
              "      <td>172788.0</td>\n",
              "      <td>-0.240440</td>\n",
              "      <td>0.530483</td>\n",
              "      <td>0.702510</td>\n",
              "      <td>0.689799</td>\n",
              "      <td>-0.377961</td>\n",
              "      <td>0.623708</td>\n",
              "      <td>-0.686180</td>\n",
              "      <td>0.679145</td>\n",
              "      <td>0.392087</td>\n",
              "      <td>...</td>\n",
              "      <td>0.265245</td>\n",
              "      <td>0.800049</td>\n",
              "      <td>-0.163298</td>\n",
              "      <td>0.123205</td>\n",
              "      <td>-0.569159</td>\n",
              "      <td>0.546668</td>\n",
              "      <td>0.108821</td>\n",
              "      <td>0.104533</td>\n",
              "      <td>10.00</td>\n",
              "      <td>0</td>\n",
              "    </tr>\n",
              "    <tr>\n",
              "      <th>284806</th>\n",
              "      <td>172792.0</td>\n",
              "      <td>-0.533413</td>\n",
              "      <td>-0.189733</td>\n",
              "      <td>0.703337</td>\n",
              "      <td>-0.506271</td>\n",
              "      <td>-0.012546</td>\n",
              "      <td>-0.649617</td>\n",
              "      <td>1.577006</td>\n",
              "      <td>-0.414650</td>\n",
              "      <td>0.486180</td>\n",
              "      <td>...</td>\n",
              "      <td>0.261057</td>\n",
              "      <td>0.643078</td>\n",
              "      <td>0.376777</td>\n",
              "      <td>0.008797</td>\n",
              "      <td>-0.473649</td>\n",
              "      <td>-0.818267</td>\n",
              "      <td>-0.002415</td>\n",
              "      <td>0.013649</td>\n",
              "      <td>217.00</td>\n",
              "      <td>0</td>\n",
              "    </tr>\n",
              "  </tbody>\n",
              "</table>\n",
              "<p>5 rows × 31 columns</p>\n",
              "</div>\n",
              "      <button class=\"colab-df-convert\" onclick=\"convertToInteractive('df-55c31fbc-d9f1-48a5-8596-6e45d66b65f1')\"\n",
              "              title=\"Convert this dataframe to an interactive table.\"\n",
              "              style=\"display:none;\">\n",
              "        \n",
              "  <svg xmlns=\"http://www.w3.org/2000/svg\" height=\"24px\"viewBox=\"0 0 24 24\"\n",
              "       width=\"24px\">\n",
              "    <path d=\"M0 0h24v24H0V0z\" fill=\"none\"/>\n",
              "    <path d=\"M18.56 5.44l.94 2.06.94-2.06 2.06-.94-2.06-.94-.94-2.06-.94 2.06-2.06.94zm-11 1L8.5 8.5l.94-2.06 2.06-.94-2.06-.94L8.5 2.5l-.94 2.06-2.06.94zm10 10l.94 2.06.94-2.06 2.06-.94-2.06-.94-.94-2.06-.94 2.06-2.06.94z\"/><path d=\"M17.41 7.96l-1.37-1.37c-.4-.4-.92-.59-1.43-.59-.52 0-1.04.2-1.43.59L10.3 9.45l-7.72 7.72c-.78.78-.78 2.05 0 2.83L4 21.41c.39.39.9.59 1.41.59.51 0 1.02-.2 1.41-.59l7.78-7.78 2.81-2.81c.8-.78.8-2.07 0-2.86zM5.41 20L4 18.59l7.72-7.72 1.47 1.35L5.41 20z\"/>\n",
              "  </svg>\n",
              "      </button>\n",
              "      \n",
              "  <style>\n",
              "    .colab-df-container {\n",
              "      display:flex;\n",
              "      flex-wrap:wrap;\n",
              "      gap: 12px;\n",
              "    }\n",
              "\n",
              "    .colab-df-convert {\n",
              "      background-color: #E8F0FE;\n",
              "      border: none;\n",
              "      border-radius: 50%;\n",
              "      cursor: pointer;\n",
              "      display: none;\n",
              "      fill: #1967D2;\n",
              "      height: 32px;\n",
              "      padding: 0 0 0 0;\n",
              "      width: 32px;\n",
              "    }\n",
              "\n",
              "    .colab-df-convert:hover {\n",
              "      background-color: #E2EBFA;\n",
              "      box-shadow: 0px 1px 2px rgba(60, 64, 67, 0.3), 0px 1px 3px 1px rgba(60, 64, 67, 0.15);\n",
              "      fill: #174EA6;\n",
              "    }\n",
              "\n",
              "    [theme=dark] .colab-df-convert {\n",
              "      background-color: #3B4455;\n",
              "      fill: #D2E3FC;\n",
              "    }\n",
              "\n",
              "    [theme=dark] .colab-df-convert:hover {\n",
              "      background-color: #434B5C;\n",
              "      box-shadow: 0px 1px 3px 1px rgba(0, 0, 0, 0.15);\n",
              "      filter: drop-shadow(0px 1px 2px rgba(0, 0, 0, 0.3));\n",
              "      fill: #FFFFFF;\n",
              "    }\n",
              "  </style>\n",
              "\n",
              "      <script>\n",
              "        const buttonEl =\n",
              "          document.querySelector('#df-55c31fbc-d9f1-48a5-8596-6e45d66b65f1 button.colab-df-convert');\n",
              "        buttonEl.style.display =\n",
              "          google.colab.kernel.accessAllowed ? 'block' : 'none';\n",
              "\n",
              "        async function convertToInteractive(key) {\n",
              "          const element = document.querySelector('#df-55c31fbc-d9f1-48a5-8596-6e45d66b65f1');\n",
              "          const dataTable =\n",
              "            await google.colab.kernel.invokeFunction('convertToInteractive',\n",
              "                                                     [key], {});\n",
              "          if (!dataTable) return;\n",
              "\n",
              "          const docLinkHtml = 'Like what you see? Visit the ' +\n",
              "            '<a target=\"_blank\" href=https://colab.research.google.com/notebooks/data_table.ipynb>data table notebook</a>'\n",
              "            + ' to learn more about interactive tables.';\n",
              "          element.innerHTML = '';\n",
              "          dataTable['output_type'] = 'display_data';\n",
              "          await google.colab.output.renderOutput(dataTable, element);\n",
              "          const docLink = document.createElement('div');\n",
              "          docLink.innerHTML = docLinkHtml;\n",
              "          element.appendChild(docLink);\n",
              "        }\n",
              "      </script>\n",
              "    </div>\n",
              "  </div>\n",
              "  "
            ]
          },
          "metadata": {},
          "execution_count": 12
        }
      ]
    },
    {
      "cell_type": "code",
      "source": [
        "nRow, nCol = data.shape\n",
        "print(f'There are {nRow} rows and {nCol} columns')"
      ],
      "metadata": {
        "id": "cke2UDy7Mdox",
        "outputId": "f5ec32e9-54a3-446c-b45f-4eaa76814cc8",
        "colab": {
          "base_uri": "https://localhost:8080/"
        }
      },
      "execution_count": null,
      "outputs": [
        {
          "output_type": "stream",
          "name": "stdout",
          "text": [
            "There are 284807 rows and 31 columns\n"
          ]
        }
      ]
    },
    {
      "cell_type": "code",
      "source": [
        "data.dtypes"
      ],
      "metadata": {
        "id": "3AunN9SFMqj3",
        "outputId": "6244f54e-bccd-456c-b7aa-06644c5d5934",
        "colab": {
          "base_uri": "https://localhost:8080/"
        }
      },
      "execution_count": null,
      "outputs": [
        {
          "output_type": "execute_result",
          "data": {
            "text/plain": [
              "Time      float64\n",
              "V1        float64\n",
              "V2        float64\n",
              "V3        float64\n",
              "V4        float64\n",
              "V5        float64\n",
              "V6        float64\n",
              "V7        float64\n",
              "V8        float64\n",
              "V9        float64\n",
              "V10       float64\n",
              "V11       float64\n",
              "V12       float64\n",
              "V13       float64\n",
              "V14       float64\n",
              "V15       float64\n",
              "V16       float64\n",
              "V17       float64\n",
              "V18       float64\n",
              "V19       float64\n",
              "V20       float64\n",
              "V21       float64\n",
              "V22       float64\n",
              "V23       float64\n",
              "V24       float64\n",
              "V25       float64\n",
              "V26       float64\n",
              "V27       float64\n",
              "V28       float64\n",
              "Amount    float64\n",
              "Class       int64\n",
              "dtype: object"
            ]
          },
          "metadata": {},
          "execution_count": 14
        }
      ]
    },
    {
      "cell_type": "code",
      "source": [
        "data.info()"
      ],
      "metadata": {
        "id": "iOMiErJEVlXH",
        "outputId": "4c780841-d3fd-4bf1-e55c-bf2da669b486",
        "colab": {
          "base_uri": "https://localhost:8080/"
        }
      },
      "execution_count": null,
      "outputs": [
        {
          "output_type": "stream",
          "name": "stdout",
          "text": [
            "<class 'pandas.core.frame.DataFrame'>\n",
            "RangeIndex: 284807 entries, 0 to 284806\n",
            "Data columns (total 31 columns):\n",
            " #   Column  Non-Null Count   Dtype  \n",
            "---  ------  --------------   -----  \n",
            " 0   Time    284807 non-null  float64\n",
            " 1   V1      284807 non-null  float64\n",
            " 2   V2      284807 non-null  float64\n",
            " 3   V3      284807 non-null  float64\n",
            " 4   V4      284807 non-null  float64\n",
            " 5   V5      284807 non-null  float64\n",
            " 6   V6      284807 non-null  float64\n",
            " 7   V7      284807 non-null  float64\n",
            " 8   V8      284807 non-null  float64\n",
            " 9   V9      284807 non-null  float64\n",
            " 10  V10     284807 non-null  float64\n",
            " 11  V11     284807 non-null  float64\n",
            " 12  V12     284807 non-null  float64\n",
            " 13  V13     284807 non-null  float64\n",
            " 14  V14     284807 non-null  float64\n",
            " 15  V15     284807 non-null  float64\n",
            " 16  V16     284807 non-null  float64\n",
            " 17  V17     284807 non-null  float64\n",
            " 18  V18     284807 non-null  float64\n",
            " 19  V19     284807 non-null  float64\n",
            " 20  V20     284807 non-null  float64\n",
            " 21  V21     284807 non-null  float64\n",
            " 22  V22     284807 non-null  float64\n",
            " 23  V23     284807 non-null  float64\n",
            " 24  V24     284807 non-null  float64\n",
            " 25  V25     284807 non-null  float64\n",
            " 26  V26     284807 non-null  float64\n",
            " 27  V27     284807 non-null  float64\n",
            " 28  V28     284807 non-null  float64\n",
            " 29  Amount  284807 non-null  float64\n",
            " 30  Class   284807 non-null  int64  \n",
            "dtypes: float64(30), int64(1)\n",
            "memory usage: 67.4 MB\n"
          ]
        }
      ]
    },
    {
      "cell_type": "markdown",
      "source": [
        "check for misssing data"
      ],
      "metadata": {
        "id": "Xy7ujNkmFD1n"
      }
    },
    {
      "cell_type": "code",
      "source": [
        "total = data.isnull().sum().sort_values(ascending = False)\n",
        "percent = (data.isnull().sum()/data.isnull().count()*100).sort_values(ascending = False)\n",
        "pd.concat([total, percent], axis=1, keys=['Total', 'Percent']).transpose()"
      ],
      "metadata": {
        "id": "UwcHFfzGFHbG",
        "outputId": "239fbc8a-63f6-4a76-fa2b-553733888e75",
        "colab": {
          "base_uri": "https://localhost:8080/",
          "height": 141
        }
      },
      "execution_count": null,
      "outputs": [
        {
          "output_type": "execute_result",
          "data": {
            "text/plain": [
              "         Time  V16  Amount  V28  V27  V26  V25  V24  V23  V22  ...  V10   V9  \\\n",
              "Total     0.0  0.0     0.0  0.0  0.0  0.0  0.0  0.0  0.0  0.0  ...  0.0  0.0   \n",
              "Percent   0.0  0.0     0.0  0.0  0.0  0.0  0.0  0.0  0.0  0.0  ...  0.0  0.0   \n",
              "\n",
              "          V8   V7   V6   V5   V4   V3   V2  Class  \n",
              "Total    0.0  0.0  0.0  0.0  0.0  0.0  0.0    0.0  \n",
              "Percent  0.0  0.0  0.0  0.0  0.0  0.0  0.0    0.0  \n",
              "\n",
              "[2 rows x 31 columns]"
            ],
            "text/html": [
              "\n",
              "  <div id=\"df-9456a1c6-17a7-43f4-9d6d-a6cd6b80d20b\">\n",
              "    <div class=\"colab-df-container\">\n",
              "      <div>\n",
              "<style scoped>\n",
              "    .dataframe tbody tr th:only-of-type {\n",
              "        vertical-align: middle;\n",
              "    }\n",
              "\n",
              "    .dataframe tbody tr th {\n",
              "        vertical-align: top;\n",
              "    }\n",
              "\n",
              "    .dataframe thead th {\n",
              "        text-align: right;\n",
              "    }\n",
              "</style>\n",
              "<table border=\"1\" class=\"dataframe\">\n",
              "  <thead>\n",
              "    <tr style=\"text-align: right;\">\n",
              "      <th></th>\n",
              "      <th>Time</th>\n",
              "      <th>V16</th>\n",
              "      <th>Amount</th>\n",
              "      <th>V28</th>\n",
              "      <th>V27</th>\n",
              "      <th>V26</th>\n",
              "      <th>V25</th>\n",
              "      <th>V24</th>\n",
              "      <th>V23</th>\n",
              "      <th>V22</th>\n",
              "      <th>...</th>\n",
              "      <th>V10</th>\n",
              "      <th>V9</th>\n",
              "      <th>V8</th>\n",
              "      <th>V7</th>\n",
              "      <th>V6</th>\n",
              "      <th>V5</th>\n",
              "      <th>V4</th>\n",
              "      <th>V3</th>\n",
              "      <th>V2</th>\n",
              "      <th>Class</th>\n",
              "    </tr>\n",
              "  </thead>\n",
              "  <tbody>\n",
              "    <tr>\n",
              "      <th>Total</th>\n",
              "      <td>0.0</td>\n",
              "      <td>0.0</td>\n",
              "      <td>0.0</td>\n",
              "      <td>0.0</td>\n",
              "      <td>0.0</td>\n",
              "      <td>0.0</td>\n",
              "      <td>0.0</td>\n",
              "      <td>0.0</td>\n",
              "      <td>0.0</td>\n",
              "      <td>0.0</td>\n",
              "      <td>...</td>\n",
              "      <td>0.0</td>\n",
              "      <td>0.0</td>\n",
              "      <td>0.0</td>\n",
              "      <td>0.0</td>\n",
              "      <td>0.0</td>\n",
              "      <td>0.0</td>\n",
              "      <td>0.0</td>\n",
              "      <td>0.0</td>\n",
              "      <td>0.0</td>\n",
              "      <td>0.0</td>\n",
              "    </tr>\n",
              "    <tr>\n",
              "      <th>Percent</th>\n",
              "      <td>0.0</td>\n",
              "      <td>0.0</td>\n",
              "      <td>0.0</td>\n",
              "      <td>0.0</td>\n",
              "      <td>0.0</td>\n",
              "      <td>0.0</td>\n",
              "      <td>0.0</td>\n",
              "      <td>0.0</td>\n",
              "      <td>0.0</td>\n",
              "      <td>0.0</td>\n",
              "      <td>...</td>\n",
              "      <td>0.0</td>\n",
              "      <td>0.0</td>\n",
              "      <td>0.0</td>\n",
              "      <td>0.0</td>\n",
              "      <td>0.0</td>\n",
              "      <td>0.0</td>\n",
              "      <td>0.0</td>\n",
              "      <td>0.0</td>\n",
              "      <td>0.0</td>\n",
              "      <td>0.0</td>\n",
              "    </tr>\n",
              "  </tbody>\n",
              "</table>\n",
              "<p>2 rows × 31 columns</p>\n",
              "</div>\n",
              "      <button class=\"colab-df-convert\" onclick=\"convertToInteractive('df-9456a1c6-17a7-43f4-9d6d-a6cd6b80d20b')\"\n",
              "              title=\"Convert this dataframe to an interactive table.\"\n",
              "              style=\"display:none;\">\n",
              "        \n",
              "  <svg xmlns=\"http://www.w3.org/2000/svg\" height=\"24px\"viewBox=\"0 0 24 24\"\n",
              "       width=\"24px\">\n",
              "    <path d=\"M0 0h24v24H0V0z\" fill=\"none\"/>\n",
              "    <path d=\"M18.56 5.44l.94 2.06.94-2.06 2.06-.94-2.06-.94-.94-2.06-.94 2.06-2.06.94zm-11 1L8.5 8.5l.94-2.06 2.06-.94-2.06-.94L8.5 2.5l-.94 2.06-2.06.94zm10 10l.94 2.06.94-2.06 2.06-.94-2.06-.94-.94-2.06-.94 2.06-2.06.94z\"/><path d=\"M17.41 7.96l-1.37-1.37c-.4-.4-.92-.59-1.43-.59-.52 0-1.04.2-1.43.59L10.3 9.45l-7.72 7.72c-.78.78-.78 2.05 0 2.83L4 21.41c.39.39.9.59 1.41.59.51 0 1.02-.2 1.41-.59l7.78-7.78 2.81-2.81c.8-.78.8-2.07 0-2.86zM5.41 20L4 18.59l7.72-7.72 1.47 1.35L5.41 20z\"/>\n",
              "  </svg>\n",
              "      </button>\n",
              "      \n",
              "  <style>\n",
              "    .colab-df-container {\n",
              "      display:flex;\n",
              "      flex-wrap:wrap;\n",
              "      gap: 12px;\n",
              "    }\n",
              "\n",
              "    .colab-df-convert {\n",
              "      background-color: #E8F0FE;\n",
              "      border: none;\n",
              "      border-radius: 50%;\n",
              "      cursor: pointer;\n",
              "      display: none;\n",
              "      fill: #1967D2;\n",
              "      height: 32px;\n",
              "      padding: 0 0 0 0;\n",
              "      width: 32px;\n",
              "    }\n",
              "\n",
              "    .colab-df-convert:hover {\n",
              "      background-color: #E2EBFA;\n",
              "      box-shadow: 0px 1px 2px rgba(60, 64, 67, 0.3), 0px 1px 3px 1px rgba(60, 64, 67, 0.15);\n",
              "      fill: #174EA6;\n",
              "    }\n",
              "\n",
              "    [theme=dark] .colab-df-convert {\n",
              "      background-color: #3B4455;\n",
              "      fill: #D2E3FC;\n",
              "    }\n",
              "\n",
              "    [theme=dark] .colab-df-convert:hover {\n",
              "      background-color: #434B5C;\n",
              "      box-shadow: 0px 1px 3px 1px rgba(0, 0, 0, 0.15);\n",
              "      filter: drop-shadow(0px 1px 2px rgba(0, 0, 0, 0.3));\n",
              "      fill: #FFFFFF;\n",
              "    }\n",
              "  </style>\n",
              "\n",
              "      <script>\n",
              "        const buttonEl =\n",
              "          document.querySelector('#df-9456a1c6-17a7-43f4-9d6d-a6cd6b80d20b button.colab-df-convert');\n",
              "        buttonEl.style.display =\n",
              "          google.colab.kernel.accessAllowed ? 'block' : 'none';\n",
              "\n",
              "        async function convertToInteractive(key) {\n",
              "          const element = document.querySelector('#df-9456a1c6-17a7-43f4-9d6d-a6cd6b80d20b');\n",
              "          const dataTable =\n",
              "            await google.colab.kernel.invokeFunction('convertToInteractive',\n",
              "                                                     [key], {});\n",
              "          if (!dataTable) return;\n",
              "\n",
              "          const docLinkHtml = 'Like what you see? Visit the ' +\n",
              "            '<a target=\"_blank\" href=https://colab.research.google.com/notebooks/data_table.ipynb>data table notebook</a>'\n",
              "            + ' to learn more about interactive tables.';\n",
              "          element.innerHTML = '';\n",
              "          dataTable['output_type'] = 'display_data';\n",
              "          await google.colab.output.renderOutput(dataTable, element);\n",
              "          const docLink = document.createElement('div');\n",
              "          docLink.innerHTML = docLinkHtml;\n",
              "          element.appendChild(docLink);\n",
              "        }\n",
              "      </script>\n",
              "    </div>\n",
              "  </div>\n",
              "  "
            ]
          },
          "metadata": {},
          "execution_count": 16
        }
      ]
    },
    {
      "cell_type": "markdown",
      "source": [
        "Checking on the columns if there is a null value"
      ],
      "metadata": {
        "id": "WTihZk7WWDup"
      }
    },
    {
      "cell_type": "code",
      "source": [
        "data.isnull().sum()"
      ],
      "metadata": {
        "id": "1-51qMLrWbAw",
        "outputId": "1322fdc3-9373-4f19-ab06-d5251c56d5fa",
        "colab": {
          "base_uri": "https://localhost:8080/"
        }
      },
      "execution_count": null,
      "outputs": [
        {
          "output_type": "execute_result",
          "data": {
            "text/plain": [
              "Time      0\n",
              "V1        0\n",
              "V2        0\n",
              "V3        0\n",
              "V4        0\n",
              "V5        0\n",
              "V6        0\n",
              "V7        0\n",
              "V8        0\n",
              "V9        0\n",
              "V10       0\n",
              "V11       0\n",
              "V12       0\n",
              "V13       0\n",
              "V14       0\n",
              "V15       0\n",
              "V16       0\n",
              "V17       0\n",
              "V18       0\n",
              "V19       0\n",
              "V20       0\n",
              "V21       0\n",
              "V22       0\n",
              "V23       0\n",
              "V24       0\n",
              "V25       0\n",
              "V26       0\n",
              "V27       0\n",
              "V28       0\n",
              "Amount    0\n",
              "Class     0\n",
              "dtype: int64"
            ]
          },
          "metadata": {},
          "execution_count": 17
        }
      ]
    },
    {
      "cell_type": "markdown",
      "source": [
        "Checking for duplicates"
      ],
      "metadata": {
        "id": "vzWDSs7tNGYR"
      }
    },
    {
      "cell_type": "code",
      "source": [
        "data.duplicated().sum()"
      ],
      "metadata": {
        "id": "CBS6nhAyNKq8",
        "outputId": "fc91af82-aee2-4afe-e0e2-bcf77b119f67",
        "colab": {
          "base_uri": "https://localhost:8080/"
        }
      },
      "execution_count": null,
      "outputs": [
        {
          "output_type": "execute_result",
          "data": {
            "text/plain": [
              "1081"
            ]
          },
          "metadata": {},
          "execution_count": 18
        }
      ]
    },
    {
      "cell_type": "code",
      "source": [
        "data = data.drop_duplicates()"
      ],
      "metadata": {
        "id": "gV4uFBvLNPo6"
      },
      "execution_count": null,
      "outputs": []
    },
    {
      "cell_type": "code",
      "source": [
        "data.duplicated().sum()"
      ],
      "metadata": {
        "id": "I8uAkss3NXrg",
        "outputId": "8d0b2f12-a516-4483-e2d8-fd70ecc0999b",
        "colab": {
          "base_uri": "https://localhost:8080/"
        }
      },
      "execution_count": null,
      "outputs": [
        {
          "output_type": "execute_result",
          "data": {
            "text/plain": [
              "0"
            ]
          },
          "metadata": {},
          "execution_count": 20
        }
      ]
    },
    {
      "cell_type": "code",
      "source": [
        "sns.countplot(x='Class',data=data,palette=\"pastel\")"
      ],
      "metadata": {
        "id": "TEk9Ot86NczQ",
        "outputId": "663052e8-e47b-40d5-a4f3-d87eec79fa37",
        "colab": {
          "base_uri": "https://localhost:8080/",
          "height": 296
        }
      },
      "execution_count": null,
      "outputs": [
        {
          "output_type": "execute_result",
          "data": {
            "text/plain": [
              "<matplotlib.axes._subplots.AxesSubplot at 0x7fcbf789f8d0>"
            ]
          },
          "metadata": {},
          "execution_count": 21
        },
        {
          "output_type": "display_data",
          "data": {
            "text/plain": [
              "<Figure size 432x288 with 1 Axes>"
            ],
            "image/png": "[encoded data removed]"
          },
          "metadata": {
            "needs_background": "light"
          }
        }
      ]
    },
    {
      "cell_type": "markdown",
      "source": [
        "Illustrate the data in a pie chart"
      ],
      "metadata": {
        "id": "bzGD81YWNjNd"
      }
    },
    {
      "cell_type": "code",
      "source": [
        "lis=[\"Not Fraud\",\"Frauds\"]\n",
        "fraud_or_not = data[\"Class\"].value_counts().tolist()\n",
        "values = [fraud_or_not[0], fraud_or_not[1]]\n",
        "fig = px.pie(values=data['Class'].value_counts(), names=lis , width=800, height=400, color_discrete_sequence=[\"skyblue\",\"black\"]\n",
        "             ,title=\"percentage between Frauds & genuin transactions\")\n",
        "fig.show()"
      ],
      "metadata": {
        "id": "x9UUVVSSNpYK",
        "outputId": "10bb2bce-21b8-4553-a3a4-977e12406741",
        "colab": {
          "base_uri": "https://localhost:8080/",
          "height": 417
        }
      },
      "execution_count": null,
      "outputs": [
        {
          "output_type": "display_data",
          "data": {
            "text/html": [
              "<html>\n",
              "<head><meta charset=\"utf-8\" /></head>\n",
              "<body>\n",
              "    <div>            <script src=\"https://cdnjs.cloudflare.com/ajax/libs/mathjax/2.7.5/MathJax.js?config=TeX-AMS-MML_SVG\"></script><script type=\"text/javascript\">if (window.MathJax) {MathJax.Hub.Config({SVG: {font: \"STIX-Web\"}});}</script>                <script type=\"text/javascript\">window.PlotlyConfig = {MathJaxConfig: 'local'};</script>\n",
              "        <script src=\"https://cdn.plot.ly/plotly-2.8.3.min.js\"></script>                <div id=\"2f7df327-883c-41b8-be14-92de9572be81\" class=\"plotly-graph-div\" style=\"height:400px; width:800px;\"></div>            <script type=\"text/javascript\">                                    window.PLOTLYENV=window.PLOTLYENV || {};                                    if (document.getElementById(\"2f7df327-883c-41b8-be14-92de9572be81\")) {                    Plotly.newPlot(                        \"2f7df327-883c-41b8-be14-92de9572be81\",                        [{\"domain\":{\"x\":[0.0,1.0],\"y\":[0.0,1.0]},\"hovertemplate\":\"label=%{label}<br>value=%{value}<extra></extra>\",\"labels\":[\"Not Fraud\",\"Frauds\"],\"legendgroup\":\"\",\"name\":\"\",\"showlegend\":true,\"values\":[283253,473],\"type\":\"pie\"}],                        {\"template\":{\"data\":{\"bar\":[{\"error_x\":{\"color\":\"#2a3f5f\"},\"error_y\":{\"color\":\"#2a3f5f\"},\"marker\":{\"line\":{\"color\":\"#E5ECF6\",\"width\":0.5},\"pattern\":{\"fillmode\":\"overlay\",\"size\":10,\"solidity\":0.2}},\"type\":\"bar\"}],\"barpolar\":[{\"marker\":{\"line\":{\"color\":\"#E5ECF6\",\"width\":0.5},\"pattern\":{\"fillmode\":\"overlay\",\"size\":10,\"solidity\":0.2}},\"type\":\"barpolar\"}],\"carpet\":[{\"aaxis\":{\"endlinecolor\":\"#2a3f5f\",\"gridcolor\":\"white\",\"linecolor\":\"white\",\"minorgridcolor\":\"white\",\"startlinecolor\":\"#2a3f5f\"},\"baxis\":{\"endlinecolor\":\"#2a3f5f\",\"gridcolor\":\"white\",\"linecolor\":\"white\",\"minorgridcolor\":\"white\",\"startlinecolor\":\"#2a3f5f\"},\"type\":\"carpet\"}],\"choropleth\":[{\"colorbar\":{\"outlinewidth\":0,\"ticks\":\"\"},\"type\":\"choropleth\"}],\"contour\":[{\"colorbar\":{\"outlinewidth\":0,\"ticks\":\"\"},\"colorscale\":[[0.0,\"#0d0887\"],[0.1111111111111111,\"#46039f\"],[0.2222222222222222,\"#7201a8\"],[0.3333333333333333,\"#9c179e\"],[0.4444444444444444,\"#bd3786\"],[0.5555555555555556,\"#d8576b\"],[0.6666666666666666,\"#ed7953\"],[0.7777777777777778,\"#fb9f3a\"],[0.8888888888888888,\"#fdca26\"],[1.0,\"#f0f921\"]],\"type\":\"contour\"}],\"contourcarpet\":[{\"colorbar\":{\"outlinewidth\":0,\"ticks\":\"\"},\"type\":\"contourcarpet\"}],\"heatmap\":[{\"colorbar\":{\"outlinewidth\":0,\"ticks\":\"\"},\"colorscale\":[[0.0,\"#0d0887\"],[0.1111111111111111,\"#46039f\"],[0.2222222222222222,\"#7201a8\"],[0.3333333333333333,\"#9c179e\"],[0.4444444444444444,\"#bd3786\"],[0.5555555555555556,\"#d8576b\"],[0.6666666666666666,\"#ed7953\"],[0.7777777777777778,\"#fb9f3a\"],[0.8888888888888888,\"#fdca26\"],[1.0,\"#f0f921\"]],\"type\":\"heatmap\"}],\"heatmapgl\":[{\"colorbar\":{\"outlinewidth\":0,\"ticks\":\"\"},\"colorscale\":[[0.0,\"#0d0887\"],[0.1111111111111111,\"#46039f\"],[0.2222222222222222,\"#7201a8\"],[0.3333333333333333,\"#9c179e\"],[0.4444444444444444,\"#bd3786\"],[0.5555555555555556,\"#d8576b\"],[0.6666666666666666,\"#ed7953\"],[0.7777777777777778,\"#fb9f3a\"],[0.8888888888888888,\"#fdca26\"],[1.0,\"#f0f921\"]],\"type\":\"heatmapgl\"}],\"histogram\":[{\"marker\":{\"pattern\":{\"fillmode\":\"overlay\",\"size\":10,\"solidity\":0.2}},\"type\":\"histogram\"}],\"histogram2d\":[{\"colorbar\":{\"outlinewidth\":0,\"ticks\":\"\"},\"colorscale\":[[0.0,\"#0d0887\"],[0.1111111111111111,\"#46039f\"],[0.2222222222222222,\"#7201a8\"],[0.3333333333333333,\"#9c179e\"],[0.4444444444444444,\"#bd3786\"],[0.5555555555555556,\"#d8576b\"],[0.6666666666666666,\"#ed7953\"],[0.7777777777777778,\"#fb9f3a\"],[0.8888888888888888,\"#fdca26\"],[1.0,\"#f0f921\"]],\"type\":\"histogram2d\"}],\"histogram2dcontour\":[{\"colorbar\":{\"outlinewidth\":0,\"ticks\":\"\"},\"colorscale\":[[0.0,\"#0d0887\"],[0.1111111111111111,\"#46039f\"],[0.2222222222222222,\"#7201a8\"],[0.3333333333333333,\"#9c179e\"],[0.4444444444444444,\"#bd3786\"],[0.5555555555555556,\"#d8576b\"],[0.6666666666666666,\"#ed7953\"],[0.7777777777777778,\"#fb9f3a\"],[0.8888888888888888,\"#fdca26\"],[1.0,\"#f0f921\"]],\"type\":\"histogram2dcontour\"}],\"mesh3d\":[{\"colorbar\":{\"outlinewidth\":0,\"ticks\":\"\"},\"type\":\"mesh3d\"}],\"parcoords\":[{\"line\":{\"colorbar\":{\"outlinewidth\":0,\"ticks\":\"\"}},\"type\":\"parcoords\"}],\"pie\":[{\"automargin\":true,\"type\":\"pie\"}],\"scatter\":[{\"marker\":{\"colorbar\":{\"outlinewidth\":0,\"ticks\":\"\"}},\"type\":\"scatter\"}],\"scatter3d\":[{\"line\":{\"colorbar\":{\"outlinewidth\":0,\"ticks\":\"\"}},\"marker\":{\"colorbar\":{\"outlinewidth\":0,\"ticks\":\"\"}},\"type\":\"scatter3d\"}],\"scattercarpet\":[{\"marker\":{\"colorbar\":{\"outlinewidth\":0,\"ticks\":\"\"}},\"type\":\"scattercarpet\"}],\"scattergeo\":[{\"marker\":{\"colorbar\":{\"outlinewidth\":0,\"ticks\":\"\"}},\"type\":\"scattergeo\"}],\"scattergl\":[{\"marker\":{\"colorbar\":{\"outlinewidth\":0,\"ticks\":\"\"}},\"type\":\"scattergl\"}],\"scattermapbox\":[{\"marker\":{\"colorbar\":{\"outlinewidth\":0,\"ticks\":\"\"}},\"type\":\"scattermapbox\"}],\"scatterpolar\":[{\"marker\":{\"colorbar\":{\"outlinewidth\":0,\"ticks\":\"\"}},\"type\":\"scatterpolar\"}],\"scatterpolargl\":[{\"marker\":{\"colorbar\":{\"outlinewidth\":0,\"ticks\":\"\"}},\"type\":\"scatterpolargl\"}],\"scatterternary\":[{\"marker\":{\"colorbar\":{\"outlinewidth\":0,\"ticks\":\"\"}},\"type\":\"scatterternary\"}],\"surface\":[{\"colorbar\":{\"outlinewidth\":0,\"ticks\":\"\"},\"colorscale\":[[0.0,\"#0d0887\"],[0.1111111111111111,\"#46039f\"],[0.2222222222222222,\"#7201a8\"],[0.3333333333333333,\"#9c179e\"],[0.4444444444444444,\"#bd3786\"],[0.5555555555555556,\"#d8576b\"],[0.6666666666666666,\"#ed7953\"],[0.7777777777777778,\"#fb9f3a\"],[0.8888888888888888,\"#fdca26\"],[1.0,\"#f0f921\"]],\"type\":\"surface\"}],\"table\":[{\"cells\":{\"fill\":{\"color\":\"#EBF0F8\"},\"line\":{\"color\":\"white\"}},\"header\":{\"fill\":{\"color\":\"#C8D4E3\"},\"line\":{\"color\":\"white\"}},\"type\":\"table\"}]},\"layout\":{\"annotationdefaults\":{\"arrowcolor\":\"#2a3f5f\",\"arrowhead\":0,\"arrowwidth\":1},\"autotypenumbers\":\"strict\",\"coloraxis\":{\"colorbar\":{\"outlinewidth\":0,\"ticks\":\"\"}},\"colorscale\":{\"diverging\":[[0,\"#8e0152\"],[0.1,\"#c51b7d\"],[0.2,\"#de77ae\"],[0.3,\"#f1b6da\"],[0.4,\"#fde0ef\"],[0.5,\"#f7f7f7\"],[0.6,\"#e6f5d0\"],[0.7,\"#b8e186\"],[0.8,\"#7fbc41\"],[0.9,\"#4d9221\"],[1,\"#276419\"]],\"sequential\":[[0.0,\"#0d0887\"],[0.1111111111111111,\"#46039f\"],[0.2222222222222222,\"#7201a8\"],[0.3333333333333333,\"#9c179e\"],[0.4444444444444444,\"#bd3786\"],[0.5555555555555556,\"#d8576b\"],[0.6666666666666666,\"#ed7953\"],[0.7777777777777778,\"#fb9f3a\"],[0.8888888888888888,\"#fdca26\"],[1.0,\"#f0f921\"]],\"sequentialminus\":[[0.0,\"#0d0887\"],[0.1111111111111111,\"#46039f\"],[0.2222222222222222,\"#7201a8\"],[0.3333333333333333,\"#9c179e\"],[0.4444444444444444,\"#bd3786\"],[0.5555555555555556,\"#d8576b\"],[0.6666666666666666,\"#ed7953\"],[0.7777777777777778,\"#fb9f3a\"],[0.8888888888888888,\"#fdca26\"],[1.0,\"#f0f921\"]]},\"colorway\":[\"#636efa\",\"#EF553B\",\"#00cc96\",\"#ab63fa\",\"#FFA15A\",\"#19d3f3\",\"#FF6692\",\"#B6E880\",\"#FF97FF\",\"#FECB52\"],\"font\":{\"color\":\"#2a3f5f\"},\"geo\":{\"bgcolor\":\"white\",\"lakecolor\":\"white\",\"landcolor\":\"#E5ECF6\",\"showlakes\":true,\"showland\":true,\"subunitcolor\":\"white\"},\"hoverlabel\":{\"align\":\"left\"},\"hovermode\":\"closest\",\"mapbox\":{\"style\":\"light\"},\"paper_bgcolor\":\"white\",\"plot_bgcolor\":\"#E5ECF6\",\"polar\":{\"angularaxis\":{\"gridcolor\":\"white\",\"linecolor\":\"white\",\"ticks\":\"\"},\"bgcolor\":\"#E5ECF6\",\"radialaxis\":{\"gridcolor\":\"white\",\"linecolor\":\"white\",\"ticks\":\"\"}},\"scene\":{\"xaxis\":{\"backgroundcolor\":\"#E5ECF6\",\"gridcolor\":\"white\",\"gridwidth\":2,\"linecolor\":\"white\",\"showbackground\":true,\"ticks\":\"\",\"zerolinecolor\":\"white\"},\"yaxis\":{\"backgroundcolor\":\"#E5ECF6\",\"gridcolor\":\"white\",\"gridwidth\":2,\"linecolor\":\"white\",\"showbackground\":true,\"ticks\":\"\",\"zerolinecolor\":\"white\"},\"zaxis\":{\"backgroundcolor\":\"#E5ECF6\",\"gridcolor\":\"white\",\"gridwidth\":2,\"linecolor\":\"white\",\"showbackground\":true,\"ticks\":\"\",\"zerolinecolor\":\"white\"}},\"shapedefaults\":{\"line\":{\"color\":\"#2a3f5f\"}},\"ternary\":{\"aaxis\":{\"gridcolor\":\"white\",\"linecolor\":\"white\",\"ticks\":\"\"},\"baxis\":{\"gridcolor\":\"white\",\"linecolor\":\"white\",\"ticks\":\"\"},\"bgcolor\":\"#E5ECF6\",\"caxis\":{\"gridcolor\":\"white\",\"linecolor\":\"white\",\"ticks\":\"\"}},\"title\":{\"x\":0.05},\"xaxis\":{\"automargin\":true,\"gridcolor\":\"white\",\"linecolor\":\"white\",\"ticks\":\"\",\"title\":{\"standoff\":15},\"zerolinecolor\":\"white\",\"zerolinewidth\":2},\"yaxis\":{\"automargin\":true,\"gridcolor\":\"white\",\"linecolor\":\"white\",\"ticks\":\"\",\"title\":{\"standoff\":15},\"zerolinecolor\":\"white\",\"zerolinewidth\":2}}},\"legend\":{\"tracegroupgap\":0},\"title\":{\"text\":\"percentage between Frauds & genuin transactions\"},\"piecolorway\":[\"skyblue\",\"black\"],\"height\":400,\"width\":800},                        {\"responsive\": true}                    ).then(function(){\n",
              "                            \n",
              "var gd = document.getElementById('2f7df327-883c-41b8-be14-92de9572be81');\n",
              "var x = new MutationObserver(function (mutations, observer) {{\n",
              "        var display = window.getComputedStyle(gd).display;\n",
              "        if (!display || display === 'none') {{\n",
              "            console.log([gd, 'removed!']);\n",
              "            Plotly.purge(gd);\n",
              "            observer.disconnect();\n",
              "        }}\n",
              "}});\n",
              "\n",
              "// Listen for the removal of the full notebook cells\n",
              "var notebookContainer = gd.closest('#notebook-container');\n",
              "if (notebookContainer) {{\n",
              "    x.observe(notebookContainer, {childList: true});\n",
              "}}\n",
              "\n",
              "// Listen for the clearing of the current output cell\n",
              "var outputEl = gd.closest('.output');\n",
              "if (outputEl) {{\n",
              "    x.observe(outputEl, {childList: true});\n",
              "}}\n",
              "\n",
              "                        })                };                            </script>        </div>\n",
              "</body>\n",
              "</html>"
            ]
          },
          "metadata": {}
        }
      ]
    },
    {
      "cell_type": "markdown",
      "source": [
        "Handle imbalanced data"
      ],
      "metadata": {
        "id": "hOIz29A2OGR5"
      }
    },
    {
      "cell_type": "code",
      "source": [
        "corr=data.corr()\n",
        "mask = np.zeros_like(corr, dtype=np.bool)\n",
        "mask[np.triu_indices_from(mask)] = True\n",
        "# Set up the matplotlib figure\n",
        "f, ax = plt.subplots(figsize=(11, 9))\n",
        "# Generate a custom diverging colormap\n",
        "cmap = sns.diverging_palette(220, 10, as_cmap=True)\n",
        "# Draw the heatmap with the mask and correct aspect ratio\n",
        "sns.heatmap(corr, mask=mask, cmap=cmap, vmax=.5, center=0, linewidths=.5, cbar_kws={\"shrink\": .5})"
      ],
      "metadata": {
        "id": "XWToImcdO0oA",
        "outputId": "d8227381-f83e-4942-909b-20a7aca6a941",
        "colab": {
          "base_uri": "https://localhost:8080/",
          "height": 583
        }
      },
      "execution_count": null,
      "outputs": [
        {
          "output_type": "execute_result",
          "data": {
            "text/plain": [
              "<matplotlib.axes._subplots.AxesSubplot at 0x7fcbf6749950>"
            ]
          },
          "metadata": {},
          "execution_count": 23
        },
        {
          "output_type": "display_data",
          "data": {
            "text/plain": [
              "<Figure size 792x648 with 2 Axes>"
            ],
            "image/png": "[encoded data removed]"
          },
          "metadata": {
            "needs_background": "light"
          }
        }
      ]
    },
    {
      "cell_type": "markdown",
      "source": [
        "from the above illustration ..... v17 v14 v12 contain important info whether a giving credit card transaction is fraudulent or not."
      ],
      "metadata": {
        "id": "K0sMveZ2PBkQ"
      }
    },
    {
      "cell_type": "code",
      "source": [
        "plt.figure(figsize=(6,4))\n",
        "sns.kdeplot(data=data[data['Class'] == 0]['V17'], label=\"Normal\", shade=True)\n",
        "sns.kdeplot(data=data[data['Class'] == 1]['V17'], label=\"Fraud\", shade=True)\n",
        "plt.legend()\n",
        "plt.show()"
      ],
      "metadata": {
        "id": "Iq7v8MtCPa4b",
        "outputId": "cf692e73-6d0d-486b-a0d1-ca383df24ede",
        "colab": {
          "base_uri": "https://localhost:8080/",
          "height": 279
        }
      },
      "execution_count": null,
      "outputs": [
        {
          "output_type": "display_data",
          "data": {
            "text/plain": [
              "<Figure size 432x288 with 1 Axes>"
            ],
            "image/png": "[encoded data removed]"
          },
          "metadata": {
            "needs_background": "light"
          }
        }
      ]
    },
    {
      "cell_type": "code",
      "source": [
        "plt.figure(figsize=(6,4))\n",
        "sns.kdeplot(data=data[data['Class'] == 0]['V14'], label=\"Normal\", shade=True)\n",
        "sns.kdeplot(data=data[data['Class'] == 1]['V14'], label=\"Fraud\", shade=True)\n",
        "plt.legend()\n",
        "plt.show()"
      ],
      "metadata": {
        "id": "tWNLrrdFPhHI",
        "outputId": "2d51211b-fc95-46ea-af17-eae42ebe6d0d",
        "colab": {
          "base_uri": "https://localhost:8080/",
          "height": 279
        }
      },
      "execution_count": null,
      "outputs": [
        {
          "output_type": "display_data",
          "data": {
            "text/plain": [
              "<Figure size 432x288 with 1 Axes>"
            ],
            "image/png": "[encoded data removed]"
          },
          "metadata": {
            "needs_background": "light"
          }
        }
      ]
    },
    {
      "cell_type": "code",
      "source": [
        "plt.figure(figsize=(6,4))\n",
        "sns.kdeplot(data=data[data['Class'] == 0]['V12'], label=\"Normal\", shade=True)\n",
        "sns.kdeplot(data=data[data['Class'] == 1]['V12'], label=\"Fraud\", shade=True)\n",
        "plt.legend()\n",
        "plt.show()\n"
      ],
      "metadata": {
        "id": "gsK0ciynPpFA",
        "outputId": "1fecf59d-3446-4dd4-d538-2eef7207d64a",
        "colab": {
          "base_uri": "https://localhost:8080/",
          "height": 279
        }
      },
      "execution_count": null,
      "outputs": [
        {
          "output_type": "display_data",
          "data": {
            "text/plain": [
              "<Figure size 432x288 with 1 Axes>"
            ],
            "image/png": "[encoded data removed]"
          },
          "metadata": {
            "needs_background": "light"
          }
        }
      ]
    },
    {
      "cell_type": "code",
      "source": [
        "data['Amount'].value_counts()"
      ],
      "metadata": {
        "id": "N73Sf56CWqmo",
        "outputId": "0587ef48-751b-45b4-b2a2-c7af5860bb7e",
        "colab": {
          "base_uri": "https://localhost:8080/"
        }
      },
      "execution_count": null,
      "outputs": [
        {
          "output_type": "execute_result",
          "data": {
            "text/plain": [
              "1.00      13566\n",
              "1.98       6044\n",
              "0.89       4871\n",
              "9.99       4738\n",
              "15.00      3280\n",
              "          ...  \n",
              "526.60        1\n",
              "248.16        1\n",
              "492.65        1\n",
              "811.50        1\n",
              "95.63         1\n",
              "Name: Amount, Length: 32767, dtype: int64"
            ]
          },
          "metadata": {},
          "execution_count": 27
        }
      ]
    },
    {
      "cell_type": "markdown",
      "source": [
        "check time and amount"
      ],
      "metadata": {
        "id": "TGvYIIVoRzPJ"
      }
    },
    {
      "cell_type": "code",
      "source": [
        "fig, ax = plt.subplots(1, 2, figsize=(18,4))\n",
        "\n",
        "Val_Amount = data['Amount'].values\n",
        "Val_Time = data['Time'].values\n",
        "\n",
        "sns.distplot(Val_Amount, ax=ax[0], color='r')\n",
        "ax[0].set_title('Distribution of Transaction Amount', fontsize=14)\n",
        "ax[0].set_xlim([min(Val_Amount), max(Val_Amount)])\n",
        "\n",
        "sns.distplot(Val_Time, ax=ax[1], color='b')\n",
        "ax[1].set_title('Distribution of Transaction Time', fontsize=14)\n",
        "ax[1].set_xlim([min(Val_Time), max(Val_Time)])\n",
        "\n",
        "plt.show()\n"
      ],
      "metadata": {
        "id": "B3v7WUp1R3XZ",
        "outputId": "0d522730-f335-407c-c762-a041d7173575",
        "colab": {
          "base_uri": "https://localhost:8080/",
          "height": 282
        }
      },
      "execution_count": null,
      "outputs": [
        {
          "output_type": "display_data",
          "data": {
            "text/plain": [
              "<Figure size 1296x288 with 2 Axes>"
            ],
            "image/png": "[encoded data removed]"
          },
          "metadata": {
            "needs_background": "light"
          }
        }
      ]
    },
    {
      "cell_type": "markdown",
      "source": [
        "apply Scaler on these features and drop the original features"
      ],
      "metadata": {
        "id": "4OqVK3BbSHNY"
      }
    },
    {
      "cell_type": "code",
      "source": [
        "fraud=data[data['Class']==1]\n",
        "genuine=data[data['Class']==0]"
      ],
      "metadata": {
        "id": "l8TRC8q6SL3p"
      },
      "execution_count": null,
      "outputs": []
    },
    {
      "cell_type": "code",
      "source": [
        "from pylab import rcParams\n",
        "\n",
        "rcParams['figure.figsize'] = 14, 6\n",
        "f,(ax1, ax2) = plt.subplots(2, 1, sharex=True)\n",
        "f.suptitle('Time of transaction vs Amount by class')\n",
        "ax1.scatter(fraud.Time, fraud.Amount,color = 'deeppink')\n",
        "ax1.set_title('Fraud')\n",
        "ax2.scatter(genuine.Time, genuine.Amount,color = 'pink')\n",
        "ax2.set_title('Genuine')\n",
        "plt.xlabel('Time (in Seconds)')\n",
        "plt.ylabel('Amount')\n",
        "plt.show()"
      ],
      "metadata": {
        "id": "zqQFssNYSRLQ",
        "outputId": "61a9f6c9-8c7b-41fa-e51b-dd9e9d93faea",
        "colab": {
          "base_uri": "https://localhost:8080/",
          "height": 431
        }
      },
      "execution_count": null,
      "outputs": [
        {
          "output_type": "display_data",
          "data": {
            "text/plain": [
              "<Figure size 1008x432 with 2 Axes>"
            ],
            "image/png": "[encoded data removed]"
          },
          "metadata": {
            "needs_background": "light"
          }
        }
      ]
    },
    {
      "cell_type": "markdown",
      "source": [
        "Plot and compare transaction times for genuine and fraud users"
      ],
      "metadata": {
        "id": "u_sLB6DvSzU0"
      }
    },
    {
      "cell_type": "code",
      "source": [
        "plt.figure(figsize=(8,4))\n",
        "Nofraud_data = data [data['Class']==0]\n",
        "plt.figure(figsize=(12,4), dpi=80)\n",
        "sns.distplot(Nofraud_data [ 'Time']/60/60, bins=48)\n",
        "plt.xticks(np.arange(0,54,6))\n",
        "plt.xlim([0,48])\n",
        "plt.xlabel('Time After First Transaction (hr)',fontsize=13)\n",
        "plt.ylabel('Number of transactions',fontsize=13)\n",
        "plt.title('Transaction Times for genuine users ',fontsize=15)"
      ],
      "metadata": {
        "id": "soeYL5W2S5dp",
        "outputId": "f0a7730f-7fb7-4501-dc76-2867c6d0d626",
        "colab": {
          "base_uri": "https://localhost:8080/",
          "height": 366
        }
      },
      "execution_count": null,
      "outputs": [
        {
          "output_type": "execute_result",
          "data": {
            "text/plain": [
              "Text(0.5, 1.0, 'Transaction Times for genuine users ')"
            ]
          },
          "metadata": {},
          "execution_count": 32
        },
        {
          "output_type": "display_data",
          "data": {
            "text/plain": [
              "<Figure size 576x288 with 0 Axes>"
            ]
          },
          "metadata": {}
        },
        {
          "output_type": "display_data",
          "data": {
            "text/plain": [
              "<Figure size 960x320 with 1 Axes>"
            ],
            "image/png": "[encoded data removed]"
          },
          "metadata": {
            "needs_background": "light"
          }
        }
      ]
    },
    {
      "cell_type": "code",
      "source": [
        "plt.figure(figsize=(8,4))\n",
        "Fraud_data = data [data['Class']==1]\n",
        "plt.figure(figsize=(12,4), dpi=80)\n",
        "sns.distplot(Fraud_data[ 'Time']/60/60, bins=48)\n",
        "plt.xticks(np.arange(0,54,6))\n",
        "plt.xlim([0,48])\n",
        "plt.xlabel('Time After First Transaction (hr)',fontsize=13)\n",
        "plt.ylabel('Number of transactions',fontsize=13)\n",
        "plt.title('Transaction Times for Non-genuine (fraudulent) users',fontsize=15)"
      ],
      "metadata": {
        "id": "AslSn841S9wU",
        "outputId": "6f886f91-cf96-4f5f-a80b-1632196ee6ae",
        "colab": {
          "base_uri": "https://localhost:8080/",
          "height": 366
        }
      },
      "execution_count": null,
      "outputs": [
        {
          "output_type": "execute_result",
          "data": {
            "text/plain": [
              "Text(0.5, 1.0, 'Transaction Times for Non-genuine (fraudulent) users')"
            ]
          },
          "metadata": {},
          "execution_count": 33
        },
        {
          "output_type": "display_data",
          "data": {
            "text/plain": [
              "<Figure size 576x288 with 0 Axes>"
            ]
          },
          "metadata": {}
        },
        {
          "output_type": "display_data",
          "data": {
            "text/plain": [
              "<Figure size 960x320 with 1 Axes>"
            ],
            "image/png": "[encoded data removed]"
          },
          "metadata": {
            "needs_background": "light"
          }
        }
      ]
    },
    {
      "cell_type": "markdown",
      "source": [
        "Perform analysis"
      ],
      "metadata": {
        "id": "zlK14sLcUELg"
      }
    },
    {
      "cell_type": "code",
      "source": [
        "fig, (ax1, ax2) = plt.subplots(2, 1, figsize=(16,6))\n",
        "sns.distplot(data.Amount, ax=ax1) \n",
        "sns.boxplot(data.Amount, ax=ax2)"
      ],
      "metadata": {
        "id": "cf6xk3d7UHzg",
        "outputId": "cbb9f196-b015-4d7f-cb85-91b5a6e333ce",
        "colab": {
          "base_uri": "https://localhost:8080/",
          "height": 405
        }
      },
      "execution_count": null,
      "outputs": [
        {
          "output_type": "execute_result",
          "data": {
            "text/plain": [
              "<matplotlib.axes._subplots.AxesSubplot at 0x7fcbf36cc610>"
            ]
          },
          "metadata": {},
          "execution_count": 34
        },
        {
          "output_type": "display_data",
          "data": {
            "text/plain": [
              "<Figure size 1152x432 with 2 Axes>"
            ],
            "image/png": "[encoded data removed]"
          },
          "metadata": {
            "needs_background": "light"
          }
        }
      ]
    },
    {
      "cell_type": "markdown",
      "source": [
        "Remove extreme outliers without losing user fraudulent data"
      ],
      "metadata": {
        "id": "T6rF0gIxTyVh"
      }
    },
    {
      "cell_type": "code",
      "source": [
        "from scipy.stats import iqr\n",
        "\n",
        "upper_limit = data.Amount.quantile(0.75) + (1.5*iqr(data.Amount))\n",
        "print(upper_limit)\n",
        "print(data[data.Amount>upper_limit]['Class'].value_counts())"
      ],
      "metadata": {
        "id": "6vYTlkaaUUup",
        "outputId": "e6008fb2-3eb2-4db6-b8f1-d4c2fd5e63ae",
        "colab": {
          "base_uri": "https://localhost:8080/"
        }
      },
      "execution_count": null,
      "outputs": [
        {
          "output_type": "stream",
          "name": "stdout",
          "text": [
            "185.375\n",
            "0    31598\n",
            "1       87\n",
            "Name: Class, dtype: int64\n"
          ]
        }
      ]
    },
    {
      "cell_type": "code",
      "source": [
        "data = data [data.Amount<=8500]\n",
        "\n",
        "print(data['Class'].value_counts())\n",
        "print('\\nPercentage of fraudulent activity: {:.2%}'.format((data [data['Class'] == 1].shape[0] / data.shape[0])))"
      ],
      "metadata": {
        "id": "Kb7wNtLfUZdR",
        "outputId": "388bbf32-b9d3-4b7a-e915-925f57806da8",
        "colab": {
          "base_uri": "https://localhost:8080/"
        }
      },
      "execution_count": null,
      "outputs": [
        {
          "output_type": "stream",
          "name": "stdout",
          "text": [
            "0    283243\n",
            "1       473\n",
            "Name: Class, dtype: int64\n",
            "\n",
            "Percentage of fraudulent activity: 0.17%\n"
          ]
        }
      ]
    },
    {
      "cell_type": "markdown",
      "source": [
        "Data scaling"
      ],
      "metadata": {
        "id": "R1_HGOu5UlQB"
      }
    },
    {
      "cell_type": "code",
      "source": [
        "from sklearn.preprocessing import StandardScaler"
      ],
      "metadata": {
        "id": "cCNNqdDHUf_I"
      },
      "execution_count": null,
      "outputs": []
    },
    {
      "cell_type": "code",
      "source": [
        "std_scaler = StandardScaler()\n",
        "data['Scaled_Amount']=std_scaler.fit_transform(data['Amount'].values.reshape(-1,1))"
      ],
      "metadata": {
        "id": "yNHNGvnir0QS"
      },
      "execution_count": null,
      "outputs": []
    },
    {
      "cell_type": "code",
      "source": [
        "data.drop(['Amount','Time'],axis=1,inplace=True)\n",
        "# drop the old feature in addition to the \"time\" feature "
      ],
      "metadata": {
        "id": "jg78oqper6Ty"
      },
      "execution_count": null,
      "outputs": []
    },
    {
      "cell_type": "code",
      "source": [
        "data.head()"
      ],
      "metadata": {
        "id": "cj3N8Weur7xs",
        "outputId": "196c86a3-6f80-4c6f-e66a-840bd80e1f15",
        "colab": {
          "base_uri": "https://localhost:8080/",
          "height": 236
        }
      },
      "execution_count": null,
      "outputs": [
        {
          "output_type": "execute_result",
          "data": {
            "text/plain": [
              "   Time        V1        V2        V3        V4        V5        V6        V7  \\\n",
              "0   0.0 -1.359807 -0.072781  2.536347  1.378155 -0.338321  0.462388  0.239599   \n",
              "1   0.0  1.191857  0.266151  0.166480  0.448154  0.060018 -0.082361 -0.078803   \n",
              "2   1.0 -1.358354 -1.340163  1.773209  0.379780 -0.503198  1.800499  0.791461   \n",
              "3   1.0 -0.966272 -0.185226  1.792993 -0.863291 -0.010309  1.247203  0.237609   \n",
              "4   2.0 -1.158233  0.877737  1.548718  0.403034 -0.407193  0.095921  0.592941   \n",
              "\n",
              "         V8        V9  ...       V22       V23       V24       V25       V26  \\\n",
              "0  0.098698  0.363787  ...  0.277838 -0.110474  0.066928  0.128539 -0.189115   \n",
              "1  0.085102 -0.255425  ... -0.638672  0.101288 -0.339846  0.167170  0.125895   \n",
              "2  0.247676 -1.514654  ...  0.771679  0.909412 -0.689281 -0.327642 -0.139097   \n",
              "3  0.377436 -1.387024  ...  0.005274 -0.190321 -1.175575  0.647376 -0.221929   \n",
              "4 -0.270533  0.817739  ...  0.798278 -0.137458  0.141267 -0.206010  0.502292   \n",
              "\n",
              "        V27       V28  Amount  Class  Scaled_Amount  \n",
              "0  0.133558 -0.021053  149.62      0       0.262805  \n",
              "1 -0.008983  0.014724    2.69      0      -0.363711  \n",
              "2 -0.055353 -0.059752  378.66      0       1.239443  \n",
              "3  0.062723  0.061458  123.50      0       0.151428  \n",
              "4  0.219422  0.215153   69.99      0      -0.076741  \n",
              "\n",
              "[5 rows x 32 columns]"
            ],
            "text/html": [
              "\n",
              "  <div id=\"df-35423dd9-af99-4e2b-b8ab-b353a60312f8\">\n",
              "    <div class=\"colab-df-container\">\n",
              "      <div>\n",
              "<style scoped>\n",
              "    .dataframe tbody tr th:only-of-type {\n",
              "        vertical-align: middle;\n",
              "    }\n",
              "\n",
              "    .dataframe tbody tr th {\n",
              "        vertical-align: top;\n",
              "    }\n",
              "\n",
              "    .dataframe thead th {\n",
              "        text-align: right;\n",
              "    }\n",
              "</style>\n",
              "<table border=\"1\" class=\"dataframe\">\n",
              "  <thead>\n",
              "    <tr style=\"text-align: right;\">\n",
              "      <th></th>\n",
              "      <th>Time</th>\n",
              "      <th>V1</th>\n",
              "      <th>V2</th>\n",
              "      <th>V3</th>\n",
              "      <th>V4</th>\n",
              "      <th>V5</th>\n",
              "      <th>V6</th>\n",
              "      <th>V7</th>\n",
              "      <th>V8</th>\n",
              "      <th>V9</th>\n",
              "      <th>...</th>\n",
              "      <th>V22</th>\n",
              "      <th>V23</th>\n",
              "      <th>V24</th>\n",
              "      <th>V25</th>\n",
              "      <th>V26</th>\n",
              "      <th>V27</th>\n",
              "      <th>V28</th>\n",
              "      <th>Amount</th>\n",
              "      <th>Class</th>\n",
              "      <th>Scaled_Amount</th>\n",
              "    </tr>\n",
              "  </thead>\n",
              "  <tbody>\n",
              "    <tr>\n",
              "      <th>0</th>\n",
              "      <td>0.0</td>\n",
              "      <td>-1.359807</td>\n",
              "      <td>-0.072781</td>\n",
              "      <td>2.536347</td>\n",
              "      <td>1.378155</td>\n",
              "      <td>-0.338321</td>\n",
              "      <td>0.462388</td>\n",
              "      <td>0.239599</td>\n",
              "      <td>0.098698</td>\n",
              "      <td>0.363787</td>\n",
              "      <td>...</td>\n",
              "      <td>0.277838</td>\n",
              "      <td>-0.110474</td>\n",
              "      <td>0.066928</td>\n",
              "      <td>0.128539</td>\n",
              "      <td>-0.189115</td>\n",
              "      <td>0.133558</td>\n",
              "      <td>-0.021053</td>\n",
              "      <td>149.62</td>\n",
              "      <td>0</td>\n",
              "      <td>0.262805</td>\n",
              "    </tr>\n",
              "    <tr>\n",
              "      <th>1</th>\n",
              "      <td>0.0</td>\n",
              "      <td>1.191857</td>\n",
              "      <td>0.266151</td>\n",
              "      <td>0.166480</td>\n",
              "      <td>0.448154</td>\n",
              "      <td>0.060018</td>\n",
              "      <td>-0.082361</td>\n",
              "      <td>-0.078803</td>\n",
              "      <td>0.085102</td>\n",
              "      <td>-0.255425</td>\n",
              "      <td>...</td>\n",
              "      <td>-0.638672</td>\n",
              "      <td>0.101288</td>\n",
              "      <td>-0.339846</td>\n",
              "      <td>0.167170</td>\n",
              "      <td>0.125895</td>\n",
              "      <td>-0.008983</td>\n",
              "      <td>0.014724</td>\n",
              "      <td>2.69</td>\n",
              "      <td>0</td>\n",
              "      <td>-0.363711</td>\n",
              "    </tr>\n",
              "    <tr>\n",
              "      <th>2</th>\n",
              "      <td>1.0</td>\n",
              "      <td>-1.358354</td>\n",
              "      <td>-1.340163</td>\n",
              "      <td>1.773209</td>\n",
              "      <td>0.379780</td>\n",
              "      <td>-0.503198</td>\n",
              "      <td>1.800499</td>\n",
              "      <td>0.791461</td>\n",
              "      <td>0.247676</td>\n",
              "      <td>-1.514654</td>\n",
              "      <td>...</td>\n",
              "      <td>0.771679</td>\n",
              "      <td>0.909412</td>\n",
              "      <td>-0.689281</td>\n",
              "      <td>-0.327642</td>\n",
              "      <td>-0.139097</td>\n",
              "      <td>-0.055353</td>\n",
              "      <td>-0.059752</td>\n",
              "      <td>378.66</td>\n",
              "      <td>0</td>\n",
              "      <td>1.239443</td>\n",
              "    </tr>\n",
              "    <tr>\n",
              "      <th>3</th>\n",
              "      <td>1.0</td>\n",
              "      <td>-0.966272</td>\n",
              "      <td>-0.185226</td>\n",
              "      <td>1.792993</td>\n",
              "      <td>-0.863291</td>\n",
              "      <td>-0.010309</td>\n",
              "      <td>1.247203</td>\n",
              "      <td>0.237609</td>\n",
              "      <td>0.377436</td>\n",
              "      <td>-1.387024</td>\n",
              "      <td>...</td>\n",
              "      <td>0.005274</td>\n",
              "      <td>-0.190321</td>\n",
              "      <td>-1.175575</td>\n",
              "      <td>0.647376</td>\n",
              "      <td>-0.221929</td>\n",
              "      <td>0.062723</td>\n",
              "      <td>0.061458</td>\n",
              "      <td>123.50</td>\n",
              "      <td>0</td>\n",
              "      <td>0.151428</td>\n",
              "    </tr>\n",
              "    <tr>\n",
              "      <th>4</th>\n",
              "      <td>2.0</td>\n",
              "      <td>-1.158233</td>\n",
              "      <td>0.877737</td>\n",
              "      <td>1.548718</td>\n",
              "      <td>0.403034</td>\n",
              "      <td>-0.407193</td>\n",
              "      <td>0.095921</td>\n",
              "      <td>0.592941</td>\n",
              "      <td>-0.270533</td>\n",
              "      <td>0.817739</td>\n",
              "      <td>...</td>\n",
              "      <td>0.798278</td>\n",
              "      <td>-0.137458</td>\n",
              "      <td>0.141267</td>\n",
              "      <td>-0.206010</td>\n",
              "      <td>0.502292</td>\n",
              "      <td>0.219422</td>\n",
              "      <td>0.215153</td>\n",
              "      <td>69.99</td>\n",
              "      <td>0</td>\n",
              "      <td>-0.076741</td>\n",
              "    </tr>\n",
              "  </tbody>\n",
              "</table>\n",
              "<p>5 rows × 32 columns</p>\n",
              "</div>\n",
              "      <button class=\"colab-df-convert\" onclick=\"convertToInteractive('df-35423dd9-af99-4e2b-b8ab-b353a60312f8')\"\n",
              "              title=\"Convert this dataframe to an interactive table.\"\n",
              "              style=\"display:none;\">\n",
              "        \n",
              "  <svg xmlns=\"http://www.w3.org/2000/svg\" height=\"24px\"viewBox=\"0 0 24 24\"\n",
              "       width=\"24px\">\n",
              "    <path d=\"M0 0h24v24H0V0z\" fill=\"none\"/>\n",
              "    <path d=\"M18.56 5.44l.94 2.06.94-2.06 2.06-.94-2.06-.94-.94-2.06-.94 2.06-2.06.94zm-11 1L8.5 8.5l.94-2.06 2.06-.94-2.06-.94L8.5 2.5l-.94 2.06-2.06.94zm10 10l.94 2.06.94-2.06 2.06-.94-2.06-.94-.94-2.06-.94 2.06-2.06.94z\"/><path d=\"M17.41 7.96l-1.37-1.37c-.4-.4-.92-.59-1.43-.59-.52 0-1.04.2-1.43.59L10.3 9.45l-7.72 7.72c-.78.78-.78 2.05 0 2.83L4 21.41c.39.39.9.59 1.41.59.51 0 1.02-.2 1.41-.59l7.78-7.78 2.81-2.81c.8-.78.8-2.07 0-2.86zM5.41 20L4 18.59l7.72-7.72 1.47 1.35L5.41 20z\"/>\n",
              "  </svg>\n",
              "      </button>\n",
              "      \n",
              "  <style>\n",
              "    .colab-df-container {\n",
              "      display:flex;\n",
              "      flex-wrap:wrap;\n",
              "      gap: 12px;\n",
              "    }\n",
              "\n",
              "    .colab-df-convert {\n",
              "      background-color: #E8F0FE;\n",
              "      border: none;\n",
              "      border-radius: 50%;\n",
              "      cursor: pointer;\n",
              "      display: none;\n",
              "      fill: #1967D2;\n",
              "      height: 32px;\n",
              "      padding: 0 0 0 0;\n",
              "      width: 32px;\n",
              "    }\n",
              "\n",
              "    .colab-df-convert:hover {\n",
              "      background-color: #E2EBFA;\n",
              "      box-shadow: 0px 1px 2px rgba(60, 64, 67, 0.3), 0px 1px 3px 1px rgba(60, 64, 67, 0.15);\n",
              "      fill: #174EA6;\n",
              "    }\n",
              "\n",
              "    [theme=dark] .colab-df-convert {\n",
              "      background-color: #3B4455;\n",
              "      fill: #D2E3FC;\n",
              "    }\n",
              "\n",
              "    [theme=dark] .colab-df-convert:hover {\n",
              "      background-color: #434B5C;\n",
              "      box-shadow: 0px 1px 3px 1px rgba(0, 0, 0, 0.15);\n",
              "      filter: drop-shadow(0px 1px 2px rgba(0, 0, 0, 0.3));\n",
              "      fill: #FFFFFF;\n",
              "    }\n",
              "  </style>\n",
              "\n",
              "      <script>\n",
              "        const buttonEl =\n",
              "          document.querySelector('#df-35423dd9-af99-4e2b-b8ab-b353a60312f8 button.colab-df-convert');\n",
              "        buttonEl.style.display =\n",
              "          google.colab.kernel.accessAllowed ? 'block' : 'none';\n",
              "\n",
              "        async function convertToInteractive(key) {\n",
              "          const element = document.querySelector('#df-35423dd9-af99-4e2b-b8ab-b353a60312f8');\n",
              "          const dataTable =\n",
              "            await google.colab.kernel.invokeFunction('convertToInteractive',\n",
              "                                                     [key], {});\n",
              "          if (!dataTable) return;\n",
              "\n",
              "          const docLinkHtml = 'Like what you see? Visit the ' +\n",
              "            '<a target=\"_blank\" href=https://colab.research.google.com/notebooks/data_table.ipynb>data table notebook</a>'\n",
              "            + ' to learn more about interactive tables.';\n",
              "          element.innerHTML = '';\n",
              "          dataTable['output_type'] = 'display_data';\n",
              "          await google.colab.output.renderOutput(dataTable, element);\n",
              "          const docLink = document.createElement('div');\n",
              "          docLink.innerHTML = docLinkHtml;\n",
              "          element.appendChild(docLink);\n",
              "        }\n",
              "      </script>\n",
              "    </div>\n",
              "  </div>\n",
              "  "
            ]
          },
          "metadata": {},
          "execution_count": 39
        }
      ]
    },
    {
      "cell_type": "code",
      "source": [
        "data.describe().round(2).style.background_gradient()"
      ],
      "metadata": {
        "id": "g1uzHTXgr_FU",
        "outputId": "81c3812b-a08b-4dc6-e4cb-ad9e20ae2efc",
        "colab": {
          "base_uri": "https://localhost:8080/",
          "height": 320
        }
      },
      "execution_count": null,
      "outputs": [
        {
          "output_type": "execute_result",
          "data": {
            "text/plain": [
              "<pandas.io.formats.style.Styler at 0x7fcc04f21190>"
            ],
            "text/html": [
              "<style type=\"text/css\">\n",
              "#T_77e4e_row0_col0, #T_77e4e_row0_col1, #T_77e4e_row0_col2, #T_77e4e_row0_col3, #T_77e4e_row0_col4, #T_77e4e_row0_col5, #T_77e4e_row0_col6, #T_77e4e_row0_col7, #T_77e4e_row0_col8, #T_77e4e_row0_col9, #T_77e4e_row0_col10, #T_77e4e_row0_col11, #T_77e4e_row0_col12, #T_77e4e_row0_col13, #T_77e4e_row0_col14, #T_77e4e_row0_col15, #T_77e4e_row0_col16, #T_77e4e_row0_col17, #T_77e4e_row0_col18, #T_77e4e_row0_col19, #T_77e4e_row0_col20, #T_77e4e_row0_col21, #T_77e4e_row0_col22, #T_77e4e_row0_col23, #T_77e4e_row0_col24, #T_77e4e_row0_col25, #T_77e4e_row0_col26, #T_77e4e_row0_col27, #T_77e4e_row0_col28, #T_77e4e_row0_col29, #T_77e4e_row0_col30, #T_77e4e_row0_col31 {\n",
              "  background-color: #023858;\n",
              "  color: #f1f1f1;\n",
              "}\n",
              "#T_77e4e_row1_col0 {\n",
              "  background-color: #b4c4df;\n",
              "  color: #000000;\n",
              "}\n",
              "#T_77e4e_row1_col1, #T_77e4e_row1_col2, #T_77e4e_row1_col3, #T_77e4e_row1_col4, #T_77e4e_row1_col5, #T_77e4e_row1_col6, #T_77e4e_row1_col7, #T_77e4e_row1_col8, #T_77e4e_row1_col9, #T_77e4e_row1_col10, #T_77e4e_row1_col11, #T_77e4e_row1_col12, #T_77e4e_row1_col13, #T_77e4e_row1_col14, #T_77e4e_row1_col15, #T_77e4e_row1_col16, #T_77e4e_row1_col17, #T_77e4e_row1_col18, #T_77e4e_row1_col19, #T_77e4e_row1_col20, #T_77e4e_row1_col21, #T_77e4e_row1_col22, #T_77e4e_row1_col23, #T_77e4e_row1_col24, #T_77e4e_row1_col25, #T_77e4e_row1_col26, #T_77e4e_row1_col27, #T_77e4e_row1_col28, #T_77e4e_row1_col29, #T_77e4e_row1_col30, #T_77e4e_row1_col31, #T_77e4e_row2_col1, #T_77e4e_row2_col2, #T_77e4e_row2_col3, #T_77e4e_row2_col4, #T_77e4e_row2_col5, #T_77e4e_row2_col6, #T_77e4e_row2_col7, #T_77e4e_row2_col8, #T_77e4e_row2_col9, #T_77e4e_row2_col10, #T_77e4e_row2_col11, #T_77e4e_row2_col12, #T_77e4e_row2_col13, #T_77e4e_row2_col14, #T_77e4e_row2_col15, #T_77e4e_row2_col16, #T_77e4e_row2_col17, #T_77e4e_row2_col18, #T_77e4e_row2_col19, #T_77e4e_row2_col20, #T_77e4e_row2_col21, #T_77e4e_row2_col22, #T_77e4e_row2_col23, #T_77e4e_row2_col24, #T_77e4e_row2_col25, #T_77e4e_row2_col26, #T_77e4e_row2_col27, #T_77e4e_row2_col28, #T_77e4e_row2_col29, #T_77e4e_row2_col30, #T_77e4e_row2_col31, #T_77e4e_row3_col0, #T_77e4e_row3_col1, #T_77e4e_row3_col2, #T_77e4e_row3_col3, #T_77e4e_row3_col4, #T_77e4e_row3_col5, #T_77e4e_row3_col6, #T_77e4e_row3_col7, #T_77e4e_row3_col8, #T_77e4e_row3_col9, #T_77e4e_row3_col10, #T_77e4e_row3_col11, #T_77e4e_row3_col12, #T_77e4e_row3_col13, #T_77e4e_row3_col14, #T_77e4e_row3_col15, #T_77e4e_row3_col16, #T_77e4e_row3_col17, #T_77e4e_row3_col18, #T_77e4e_row3_col19, #T_77e4e_row3_col20, #T_77e4e_row3_col21, #T_77e4e_row3_col22, #T_77e4e_row3_col23, #T_77e4e_row3_col24, #T_77e4e_row3_col25, #T_77e4e_row3_col26, #T_77e4e_row3_col27, #T_77e4e_row3_col28, #T_77e4e_row3_col29, #T_77e4e_row3_col30, #T_77e4e_row3_col31, #T_77e4e_row4_col1, #T_77e4e_row4_col2, #T_77e4e_row4_col3, #T_77e4e_row4_col4, #T_77e4e_row4_col5, #T_77e4e_row4_col6, #T_77e4e_row4_col7, #T_77e4e_row4_col8, #T_77e4e_row4_col9, #T_77e4e_row4_col10, #T_77e4e_row4_col11, #T_77e4e_row4_col12, #T_77e4e_row4_col13, #T_77e4e_row4_col14, #T_77e4e_row4_col15, #T_77e4e_row4_col16, #T_77e4e_row4_col17, #T_77e4e_row4_col18, #T_77e4e_row4_col19, #T_77e4e_row4_col20, #T_77e4e_row4_col21, #T_77e4e_row4_col22, #T_77e4e_row4_col23, #T_77e4e_row4_col24, #T_77e4e_row4_col25, #T_77e4e_row4_col26, #T_77e4e_row4_col27, #T_77e4e_row4_col28, #T_77e4e_row4_col29, #T_77e4e_row4_col30, #T_77e4e_row4_col31, #T_77e4e_row5_col1, #T_77e4e_row5_col2, #T_77e4e_row5_col3, #T_77e4e_row5_col4, #T_77e4e_row5_col5, #T_77e4e_row5_col6, #T_77e4e_row5_col7, #T_77e4e_row5_col8, #T_77e4e_row5_col9, #T_77e4e_row5_col10, #T_77e4e_row5_col11, #T_77e4e_row5_col12, #T_77e4e_row5_col13, #T_77e4e_row5_col14, #T_77e4e_row5_col15, #T_77e4e_row5_col16, #T_77e4e_row5_col17, #T_77e4e_row5_col18, #T_77e4e_row5_col19, #T_77e4e_row5_col20, #T_77e4e_row5_col21, #T_77e4e_row5_col22, #T_77e4e_row5_col23, #T_77e4e_row5_col24, #T_77e4e_row5_col25, #T_77e4e_row5_col26, #T_77e4e_row5_col27, #T_77e4e_row5_col28, #T_77e4e_row5_col29, #T_77e4e_row5_col30, #T_77e4e_row5_col31, #T_77e4e_row6_col1, #T_77e4e_row6_col2, #T_77e4e_row6_col3, #T_77e4e_row6_col4, #T_77e4e_row6_col5, #T_77e4e_row6_col6, #T_77e4e_row6_col7, #T_77e4e_row6_col8, #T_77e4e_row6_col9, #T_77e4e_row6_col10, #T_77e4e_row6_col11, #T_77e4e_row6_col12, #T_77e4e_row6_col13, #T_77e4e_row6_col14, #T_77e4e_row6_col15, #T_77e4e_row6_col16, #T_77e4e_row6_col17, #T_77e4e_row6_col18, #T_77e4e_row6_col19, #T_77e4e_row6_col20, #T_77e4e_row6_col21, #T_77e4e_row6_col22, #T_77e4e_row6_col23, #T_77e4e_row6_col24, #T_77e4e_row6_col25, #T_77e4e_row6_col26, #T_77e4e_row6_col27, #T_77e4e_row6_col28, #T_77e4e_row6_col29, #T_77e4e_row6_col30, #T_77e4e_row6_col31, #T_77e4e_row7_col1, #T_77e4e_row7_col2, #T_77e4e_row7_col3, #T_77e4e_row7_col4, #T_77e4e_row7_col5, #T_77e4e_row7_col6, #T_77e4e_row7_col7, #T_77e4e_row7_col8, #T_77e4e_row7_col9, #T_77e4e_row7_col10, #T_77e4e_row7_col11, #T_77e4e_row7_col12, #T_77e4e_row7_col13, #T_77e4e_row7_col14, #T_77e4e_row7_col15, #T_77e4e_row7_col16, #T_77e4e_row7_col17, #T_77e4e_row7_col18, #T_77e4e_row7_col19, #T_77e4e_row7_col20, #T_77e4e_row7_col21, #T_77e4e_row7_col22, #T_77e4e_row7_col23, #T_77e4e_row7_col24, #T_77e4e_row7_col25, #T_77e4e_row7_col26, #T_77e4e_row7_col27, #T_77e4e_row7_col28, #T_77e4e_row7_col30, #T_77e4e_row7_col31 {\n",
              "  background-color: #fff7fb;\n",
              "  color: #000000;\n",
              "}\n",
              "#T_77e4e_row2_col0 {\n",
              "  background-color: #e3e0ee;\n",
              "  color: #000000;\n",
              "}\n",
              "#T_77e4e_row4_col0 {\n",
              "  background-color: #dedcec;\n",
              "  color: #000000;\n",
              "}\n",
              "#T_77e4e_row5_col0 {\n",
              "  background-color: #c0c9e2;\n",
              "  color: #000000;\n",
              "}\n",
              "#T_77e4e_row6_col0 {\n",
              "  background-color: #78abd0;\n",
              "  color: #f1f1f1;\n",
              "}\n",
              "#T_77e4e_row7_col0 {\n",
              "  background-color: #3f93c2;\n",
              "  color: #f1f1f1;\n",
              "}\n",
              "#T_77e4e_row7_col29 {\n",
              "  background-color: #fbf3f9;\n",
              "  color: #000000;\n",
              "}\n",
              "</style>\n",
              "<table id=\"T_77e4e_\" class=\"dataframe\">\n",
              "  <thead>\n",
              "    <tr>\n",
              "      <th class=\"blank level0\" >&nbsp;</th>\n",
              "      <th class=\"col_heading level0 col0\" >Time</th>\n",
              "      <th class=\"col_heading level0 col1\" >V1</th>\n",
              "      <th class=\"col_heading level0 col2\" >V2</th>\n",
              "      <th class=\"col_heading level0 col3\" >V3</th>\n",
              "      <th class=\"col_heading level0 col4\" >V4</th>\n",
              "      <th class=\"col_heading level0 col5\" >V5</th>\n",
              "      <th class=\"col_heading level0 col6\" >V6</th>\n",
              "      <th class=\"col_heading level0 col7\" >V7</th>\n",
              "      <th class=\"col_heading level0 col8\" >V8</th>\n",
              "      <th class=\"col_heading level0 col9\" >V9</th>\n",
              "      <th class=\"col_heading level0 col10\" >V10</th>\n",
              "      <th class=\"col_heading level0 col11\" >V11</th>\n",
              "      <th class=\"col_heading level0 col12\" >V12</th>\n",
              "      <th class=\"col_heading level0 col13\" >V13</th>\n",
              "      <th class=\"col_heading level0 col14\" >V14</th>\n",
              "      <th class=\"col_heading level0 col15\" >V15</th>\n",
              "      <th class=\"col_heading level0 col16\" >V16</th>\n",
              "      <th class=\"col_heading level0 col17\" >V17</th>\n",
              "      <th class=\"col_heading level0 col18\" >V18</th>\n",
              "      <th class=\"col_heading level0 col19\" >V19</th>\n",
              "      <th class=\"col_heading level0 col20\" >V20</th>\n",
              "      <th class=\"col_heading level0 col21\" >V21</th>\n",
              "      <th class=\"col_heading level0 col22\" >V22</th>\n",
              "      <th class=\"col_heading level0 col23\" >V23</th>\n",
              "      <th class=\"col_heading level0 col24\" >V24</th>\n",
              "      <th class=\"col_heading level0 col25\" >V25</th>\n",
              "      <th class=\"col_heading level0 col26\" >V26</th>\n",
              "      <th class=\"col_heading level0 col27\" >V27</th>\n",
              "      <th class=\"col_heading level0 col28\" >V28</th>\n",
              "      <th class=\"col_heading level0 col29\" >Amount</th>\n",
              "      <th class=\"col_heading level0 col30\" >Class</th>\n",
              "      <th class=\"col_heading level0 col31\" >Scaled_Amount</th>\n",
              "    </tr>\n",
              "  </thead>\n",
              "  <tbody>\n",
              "    <tr>\n",
              "      <th id=\"T_77e4e_level0_row0\" class=\"row_heading level0 row0\" >count</th>\n",
              "      <td id=\"T_77e4e_row0_col0\" class=\"data row0 col0\" >283716.000000</td>\n",
              "      <td id=\"T_77e4e_row0_col1\" class=\"data row0 col1\" >283716.000000</td>\n",
              "      <td id=\"T_77e4e_row0_col2\" class=\"data row0 col2\" >283716.000000</td>\n",
              "      <td id=\"T_77e4e_row0_col3\" class=\"data row0 col3\" >283716.000000</td>\n",
              "      <td id=\"T_77e4e_row0_col4\" class=\"data row0 col4\" >283716.000000</td>\n",
              "      <td id=\"T_77e4e_row0_col5\" class=\"data row0 col5\" >283716.000000</td>\n",
              "      <td id=\"T_77e4e_row0_col6\" class=\"data row0 col6\" >283716.000000</td>\n",
              "      <td id=\"T_77e4e_row0_col7\" class=\"data row0 col7\" >283716.000000</td>\n",
              "      <td id=\"T_77e4e_row0_col8\" class=\"data row0 col8\" >283716.000000</td>\n",
              "      <td id=\"T_77e4e_row0_col9\" class=\"data row0 col9\" >283716.000000</td>\n",
              "      <td id=\"T_77e4e_row0_col10\" class=\"data row0 col10\" >283716.000000</td>\n",
              "      <td id=\"T_77e4e_row0_col11\" class=\"data row0 col11\" >283716.000000</td>\n",
              "      <td id=\"T_77e4e_row0_col12\" class=\"data row0 col12\" >283716.000000</td>\n",
              "      <td id=\"T_77e4e_row0_col13\" class=\"data row0 col13\" >283716.000000</td>\n",
              "      <td id=\"T_77e4e_row0_col14\" class=\"data row0 col14\" >283716.000000</td>\n",
              "      <td id=\"T_77e4e_row0_col15\" class=\"data row0 col15\" >283716.000000</td>\n",
              "      <td id=\"T_77e4e_row0_col16\" class=\"data row0 col16\" >283716.000000</td>\n",
              "      <td id=\"T_77e4e_row0_col17\" class=\"data row0 col17\" >283716.000000</td>\n",
              "      <td id=\"T_77e4e_row0_col18\" class=\"data row0 col18\" >283716.000000</td>\n",
              "      <td id=\"T_77e4e_row0_col19\" class=\"data row0 col19\" >283716.000000</td>\n",
              "      <td id=\"T_77e4e_row0_col20\" class=\"data row0 col20\" >283716.000000</td>\n",
              "      <td id=\"T_77e4e_row0_col21\" class=\"data row0 col21\" >283716.000000</td>\n",
              "      <td id=\"T_77e4e_row0_col22\" class=\"data row0 col22\" >283716.000000</td>\n",
              "      <td id=\"T_77e4e_row0_col23\" class=\"data row0 col23\" >283716.000000</td>\n",
              "      <td id=\"T_77e4e_row0_col24\" class=\"data row0 col24\" >283716.000000</td>\n",
              "      <td id=\"T_77e4e_row0_col25\" class=\"data row0 col25\" >283716.000000</td>\n",
              "      <td id=\"T_77e4e_row0_col26\" class=\"data row0 col26\" >283716.000000</td>\n",
              "      <td id=\"T_77e4e_row0_col27\" class=\"data row0 col27\" >283716.000000</td>\n",
              "      <td id=\"T_77e4e_row0_col28\" class=\"data row0 col28\" >283716.000000</td>\n",
              "      <td id=\"T_77e4e_row0_col29\" class=\"data row0 col29\" >283716.000000</td>\n",
              "      <td id=\"T_77e4e_row0_col30\" class=\"data row0 col30\" >283716.000000</td>\n",
              "      <td id=\"T_77e4e_row0_col31\" class=\"data row0 col31\" >283716.000000</td>\n",
              "    </tr>\n",
              "    <tr>\n",
              "      <th id=\"T_77e4e_level0_row1\" class=\"row_heading level0 row1\" >mean</th>\n",
              "      <td id=\"T_77e4e_row1_col0\" class=\"data row1 col0\" >94810.740000</td>\n",
              "      <td id=\"T_77e4e_row1_col1\" class=\"data row1 col1\" >0.010000</td>\n",
              "      <td id=\"T_77e4e_row1_col2\" class=\"data row1 col2\" >-0.000000</td>\n",
              "      <td id=\"T_77e4e_row1_col3\" class=\"data row1 col3\" >0.000000</td>\n",
              "      <td id=\"T_77e4e_row1_col4\" class=\"data row1 col4\" >-0.000000</td>\n",
              "      <td id=\"T_77e4e_row1_col5\" class=\"data row1 col5\" >0.000000</td>\n",
              "      <td id=\"T_77e4e_row1_col6\" class=\"data row1 col6\" >-0.000000</td>\n",
              "      <td id=\"T_77e4e_row1_col7\" class=\"data row1 col7\" >0.000000</td>\n",
              "      <td id=\"T_77e4e_row1_col8\" class=\"data row1 col8\" >-0.000000</td>\n",
              "      <td id=\"T_77e4e_row1_col9\" class=\"data row1 col9\" >-0.000000</td>\n",
              "      <td id=\"T_77e4e_row1_col10\" class=\"data row1 col10\" >-0.000000</td>\n",
              "      <td id=\"T_77e4e_row1_col11\" class=\"data row1 col11\" >0.000000</td>\n",
              "      <td id=\"T_77e4e_row1_col12\" class=\"data row1 col12\" >-0.000000</td>\n",
              "      <td id=\"T_77e4e_row1_col13\" class=\"data row1 col13\" >0.000000</td>\n",
              "      <td id=\"T_77e4e_row1_col14\" class=\"data row1 col14\" >0.000000</td>\n",
              "      <td id=\"T_77e4e_row1_col15\" class=\"data row1 col15\" >0.000000</td>\n",
              "      <td id=\"T_77e4e_row1_col16\" class=\"data row1 col16\" >0.000000</td>\n",
              "      <td id=\"T_77e4e_row1_col17\" class=\"data row1 col17\" >0.000000</td>\n",
              "      <td id=\"T_77e4e_row1_col18\" class=\"data row1 col18\" >0.000000</td>\n",
              "      <td id=\"T_77e4e_row1_col19\" class=\"data row1 col19\" >-0.000000</td>\n",
              "      <td id=\"T_77e4e_row1_col20\" class=\"data row1 col20\" >-0.000000</td>\n",
              "      <td id=\"T_77e4e_row1_col21\" class=\"data row1 col21\" >-0.000000</td>\n",
              "      <td id=\"T_77e4e_row1_col22\" class=\"data row1 col22\" >0.000000</td>\n",
              "      <td id=\"T_77e4e_row1_col23\" class=\"data row1 col23\" >0.000000</td>\n",
              "      <td id=\"T_77e4e_row1_col24\" class=\"data row1 col24\" >0.000000</td>\n",
              "      <td id=\"T_77e4e_row1_col25\" class=\"data row1 col25\" >-0.000000</td>\n",
              "      <td id=\"T_77e4e_row1_col26\" class=\"data row1 col26\" >0.000000</td>\n",
              "      <td id=\"T_77e4e_row1_col27\" class=\"data row1 col27\" >0.000000</td>\n",
              "      <td id=\"T_77e4e_row1_col28\" class=\"data row1 col28\" >0.000000</td>\n",
              "      <td id=\"T_77e4e_row1_col29\" class=\"data row1 col29\" >87.990000</td>\n",
              "      <td id=\"T_77e4e_row1_col30\" class=\"data row1 col30\" >0.000000</td>\n",
              "      <td id=\"T_77e4e_row1_col31\" class=\"data row1 col31\" >0.000000</td>\n",
              "    </tr>\n",
              "    <tr>\n",
              "      <th id=\"T_77e4e_level0_row2\" class=\"row_heading level0 row2\" >std</th>\n",
              "      <td id=\"T_77e4e_row2_col0\" class=\"data row2 col0\" >47480.910000</td>\n",
              "      <td id=\"T_77e4e_row2_col1\" class=\"data row2 col1\" >1.940000</td>\n",
              "      <td id=\"T_77e4e_row2_col2\" class=\"data row2 col2\" >1.630000</td>\n",
              "      <td id=\"T_77e4e_row2_col3\" class=\"data row2 col3\" >1.500000</td>\n",
              "      <td id=\"T_77e4e_row2_col4\" class=\"data row2 col4\" >1.410000</td>\n",
              "      <td id=\"T_77e4e_row2_col5\" class=\"data row2 col5\" >1.360000</td>\n",
              "      <td id=\"T_77e4e_row2_col6\" class=\"data row2 col6\" >1.320000</td>\n",
              "      <td id=\"T_77e4e_row2_col7\" class=\"data row2 col7\" >1.200000</td>\n",
              "      <td id=\"T_77e4e_row2_col8\" class=\"data row2 col8\" >1.180000</td>\n",
              "      <td id=\"T_77e4e_row2_col9\" class=\"data row2 col9\" >1.100000</td>\n",
              "      <td id=\"T_77e4e_row2_col10\" class=\"data row2 col10\" >1.080000</td>\n",
              "      <td id=\"T_77e4e_row2_col11\" class=\"data row2 col11\" >1.020000</td>\n",
              "      <td id=\"T_77e4e_row2_col12\" class=\"data row2 col12\" >0.990000</td>\n",
              "      <td id=\"T_77e4e_row2_col13\" class=\"data row2 col13\" >1.000000</td>\n",
              "      <td id=\"T_77e4e_row2_col14\" class=\"data row2 col14\" >0.950000</td>\n",
              "      <td id=\"T_77e4e_row2_col15\" class=\"data row2 col15\" >0.910000</td>\n",
              "      <td id=\"T_77e4e_row2_col16\" class=\"data row2 col16\" >0.870000</td>\n",
              "      <td id=\"T_77e4e_row2_col17\" class=\"data row2 col17\" >0.840000</td>\n",
              "      <td id=\"T_77e4e_row2_col18\" class=\"data row2 col18\" >0.840000</td>\n",
              "      <td id=\"T_77e4e_row2_col19\" class=\"data row2 col19\" >0.810000</td>\n",
              "      <td id=\"T_77e4e_row2_col20\" class=\"data row2 col20\" >0.750000</td>\n",
              "      <td id=\"T_77e4e_row2_col21\" class=\"data row2 col21\" >0.720000</td>\n",
              "      <td id=\"T_77e4e_row2_col22\" class=\"data row2 col22\" >0.720000</td>\n",
              "      <td id=\"T_77e4e_row2_col23\" class=\"data row2 col23\" >0.620000</td>\n",
              "      <td id=\"T_77e4e_row2_col24\" class=\"data row2 col24\" >0.610000</td>\n",
              "      <td id=\"T_77e4e_row2_col25\" class=\"data row2 col25\" >0.520000</td>\n",
              "      <td id=\"T_77e4e_row2_col26\" class=\"data row2 col26\" >0.480000</td>\n",
              "      <td id=\"T_77e4e_row2_col27\" class=\"data row2 col27\" >0.390000</td>\n",
              "      <td id=\"T_77e4e_row2_col28\" class=\"data row2 col28\" >0.330000</td>\n",
              "      <td id=\"T_77e4e_row2_col29\" class=\"data row2 col29\" >234.520000</td>\n",
              "      <td id=\"T_77e4e_row2_col30\" class=\"data row2 col30\" >0.040000</td>\n",
              "      <td id=\"T_77e4e_row2_col31\" class=\"data row2 col31\" >1.000000</td>\n",
              "    </tr>\n",
              "    <tr>\n",
              "      <th id=\"T_77e4e_level0_row3\" class=\"row_heading level0 row3\" >min</th>\n",
              "      <td id=\"T_77e4e_row3_col0\" class=\"data row3 col0\" >0.000000</td>\n",
              "      <td id=\"T_77e4e_row3_col1\" class=\"data row3 col1\" >-56.410000</td>\n",
              "      <td id=\"T_77e4e_row3_col2\" class=\"data row3 col2\" >-72.720000</td>\n",
              "      <td id=\"T_77e4e_row3_col3\" class=\"data row3 col3\" >-33.680000</td>\n",
              "      <td id=\"T_77e4e_row3_col4\" class=\"data row3 col4\" >-5.680000</td>\n",
              "      <td id=\"T_77e4e_row3_col5\" class=\"data row3 col5\" >-42.150000</td>\n",
              "      <td id=\"T_77e4e_row3_col6\" class=\"data row3 col6\" >-26.160000</td>\n",
              "      <td id=\"T_77e4e_row3_col7\" class=\"data row3 col7\" >-43.560000</td>\n",
              "      <td id=\"T_77e4e_row3_col8\" class=\"data row3 col8\" >-73.220000</td>\n",
              "      <td id=\"T_77e4e_row3_col9\" class=\"data row3 col9\" >-13.430000</td>\n",
              "      <td id=\"T_77e4e_row3_col10\" class=\"data row3 col10\" >-24.590000</td>\n",
              "      <td id=\"T_77e4e_row3_col11\" class=\"data row3 col11\" >-4.800000</td>\n",
              "      <td id=\"T_77e4e_row3_col12\" class=\"data row3 col12\" >-18.680000</td>\n",
              "      <td id=\"T_77e4e_row3_col13\" class=\"data row3 col13\" >-5.790000</td>\n",
              "      <td id=\"T_77e4e_row3_col14\" class=\"data row3 col14\" >-19.210000</td>\n",
              "      <td id=\"T_77e4e_row3_col15\" class=\"data row3 col15\" >-4.500000</td>\n",
              "      <td id=\"T_77e4e_row3_col16\" class=\"data row3 col16\" >-14.130000</td>\n",
              "      <td id=\"T_77e4e_row3_col17\" class=\"data row3 col17\" >-25.160000</td>\n",
              "      <td id=\"T_77e4e_row3_col18\" class=\"data row3 col18\" >-9.500000</td>\n",
              "      <td id=\"T_77e4e_row3_col19\" class=\"data row3 col19\" >-4.930000</td>\n",
              "      <td id=\"T_77e4e_row3_col20\" class=\"data row3 col20\" >-28.010000</td>\n",
              "      <td id=\"T_77e4e_row3_col21\" class=\"data row3 col21\" >-34.830000</td>\n",
              "      <td id=\"T_77e4e_row3_col22\" class=\"data row3 col22\" >-8.890000</td>\n",
              "      <td id=\"T_77e4e_row3_col23\" class=\"data row3 col23\" >-44.810000</td>\n",
              "      <td id=\"T_77e4e_row3_col24\" class=\"data row3 col24\" >-2.840000</td>\n",
              "      <td id=\"T_77e4e_row3_col25\" class=\"data row3 col25\" >-10.300000</td>\n",
              "      <td id=\"T_77e4e_row3_col26\" class=\"data row3 col26\" >-2.070000</td>\n",
              "      <td id=\"T_77e4e_row3_col27\" class=\"data row3 col27\" >-22.570000</td>\n",
              "      <td id=\"T_77e4e_row3_col28\" class=\"data row3 col28\" >-11.710000</td>\n",
              "      <td id=\"T_77e4e_row3_col29\" class=\"data row3 col29\" >0.000000</td>\n",
              "      <td id=\"T_77e4e_row3_col30\" class=\"data row3 col30\" >0.000000</td>\n",
              "      <td id=\"T_77e4e_row3_col31\" class=\"data row3 col31\" >-0.380000</td>\n",
              "    </tr>\n",
              "    <tr>\n",
              "      <th id=\"T_77e4e_level0_row4\" class=\"row_heading level0 row4\" >25%</th>\n",
              "      <td id=\"T_77e4e_row4_col0\" class=\"data row4 col0\" >54206.250000</td>\n",
              "      <td id=\"T_77e4e_row4_col1\" class=\"data row4 col1\" >-0.920000</td>\n",
              "      <td id=\"T_77e4e_row4_col2\" class=\"data row4 col2\" >-0.600000</td>\n",
              "      <td id=\"T_77e4e_row4_col3\" class=\"data row4 col3\" >-0.890000</td>\n",
              "      <td id=\"T_77e4e_row4_col4\" class=\"data row4 col4\" >-0.850000</td>\n",
              "      <td id=\"T_77e4e_row4_col5\" class=\"data row4 col5\" >-0.690000</td>\n",
              "      <td id=\"T_77e4e_row4_col6\" class=\"data row4 col6\" >-0.770000</td>\n",
              "      <td id=\"T_77e4e_row4_col7\" class=\"data row4 col7\" >-0.550000</td>\n",
              "      <td id=\"T_77e4e_row4_col8\" class=\"data row4 col8\" >-0.210000</td>\n",
              "      <td id=\"T_77e4e_row4_col9\" class=\"data row4 col9\" >-0.640000</td>\n",
              "      <td id=\"T_77e4e_row4_col10\" class=\"data row4 col10\" >-0.540000</td>\n",
              "      <td id=\"T_77e4e_row4_col11\" class=\"data row4 col11\" >-0.760000</td>\n",
              "      <td id=\"T_77e4e_row4_col12\" class=\"data row4 col12\" >-0.410000</td>\n",
              "      <td id=\"T_77e4e_row4_col13\" class=\"data row4 col13\" >-0.650000</td>\n",
              "      <td id=\"T_77e4e_row4_col14\" class=\"data row4 col14\" >-0.430000</td>\n",
              "      <td id=\"T_77e4e_row4_col15\" class=\"data row4 col15\" >-0.580000</td>\n",
              "      <td id=\"T_77e4e_row4_col16\" class=\"data row4 col16\" >-0.470000</td>\n",
              "      <td id=\"T_77e4e_row4_col17\" class=\"data row4 col17\" >-0.480000</td>\n",
              "      <td id=\"T_77e4e_row4_col18\" class=\"data row4 col18\" >-0.500000</td>\n",
              "      <td id=\"T_77e4e_row4_col19\" class=\"data row4 col19\" >-0.460000</td>\n",
              "      <td id=\"T_77e4e_row4_col20\" class=\"data row4 col20\" >-0.210000</td>\n",
              "      <td id=\"T_77e4e_row4_col21\" class=\"data row4 col21\" >-0.230000</td>\n",
              "      <td id=\"T_77e4e_row4_col22\" class=\"data row4 col22\" >-0.540000</td>\n",
              "      <td id=\"T_77e4e_row4_col23\" class=\"data row4 col23\" >-0.160000</td>\n",
              "      <td id=\"T_77e4e_row4_col24\" class=\"data row4 col24\" >-0.350000</td>\n",
              "      <td id=\"T_77e4e_row4_col25\" class=\"data row4 col25\" >-0.320000</td>\n",
              "      <td id=\"T_77e4e_row4_col26\" class=\"data row4 col26\" >-0.330000</td>\n",
              "      <td id=\"T_77e4e_row4_col27\" class=\"data row4 col27\" >-0.070000</td>\n",
              "      <td id=\"T_77e4e_row4_col28\" class=\"data row4 col28\" >-0.050000</td>\n",
              "      <td id=\"T_77e4e_row4_col29\" class=\"data row4 col29\" >5.600000</td>\n",
              "      <td id=\"T_77e4e_row4_col30\" class=\"data row4 col30\" >0.000000</td>\n",
              "      <td id=\"T_77e4e_row4_col31\" class=\"data row4 col31\" >-0.350000</td>\n",
              "    </tr>\n",
              "    <tr>\n",
              "      <th id=\"T_77e4e_level0_row5\" class=\"row_heading level0 row5\" >50%</th>\n",
              "      <td id=\"T_77e4e_row5_col0\" class=\"data row5 col0\" >84691.500000</td>\n",
              "      <td id=\"T_77e4e_row5_col1\" class=\"data row5 col1\" >0.020000</td>\n",
              "      <td id=\"T_77e4e_row5_col2\" class=\"data row5 col2\" >0.060000</td>\n",
              "      <td id=\"T_77e4e_row5_col3\" class=\"data row5 col3\" >0.180000</td>\n",
              "      <td id=\"T_77e4e_row5_col4\" class=\"data row5 col4\" >-0.020000</td>\n",
              "      <td id=\"T_77e4e_row5_col5\" class=\"data row5 col5\" >-0.050000</td>\n",
              "      <td id=\"T_77e4e_row5_col6\" class=\"data row5 col6\" >-0.280000</td>\n",
              "      <td id=\"T_77e4e_row5_col7\" class=\"data row5 col7\" >0.040000</td>\n",
              "      <td id=\"T_77e4e_row5_col8\" class=\"data row5 col8\" >0.020000</td>\n",
              "      <td id=\"T_77e4e_row5_col9\" class=\"data row5 col9\" >-0.050000</td>\n",
              "      <td id=\"T_77e4e_row5_col10\" class=\"data row5 col10\" >-0.090000</td>\n",
              "      <td id=\"T_77e4e_row5_col11\" class=\"data row5 col11\" >-0.030000</td>\n",
              "      <td id=\"T_77e4e_row5_col12\" class=\"data row5 col12\" >0.140000</td>\n",
              "      <td id=\"T_77e4e_row5_col13\" class=\"data row5 col13\" >-0.010000</td>\n",
              "      <td id=\"T_77e4e_row5_col14\" class=\"data row5 col14\" >0.050000</td>\n",
              "      <td id=\"T_77e4e_row5_col15\" class=\"data row5 col15\" >0.050000</td>\n",
              "      <td id=\"T_77e4e_row5_col16\" class=\"data row5 col16\" >0.070000</td>\n",
              "      <td id=\"T_77e4e_row5_col17\" class=\"data row5 col17\" >-0.070000</td>\n",
              "      <td id=\"T_77e4e_row5_col18\" class=\"data row5 col18\" >-0.000000</td>\n",
              "      <td id=\"T_77e4e_row5_col19\" class=\"data row5 col19\" >0.000000</td>\n",
              "      <td id=\"T_77e4e_row5_col20\" class=\"data row5 col20\" >-0.060000</td>\n",
              "      <td id=\"T_77e4e_row5_col21\" class=\"data row5 col21\" >-0.030000</td>\n",
              "      <td id=\"T_77e4e_row5_col22\" class=\"data row5 col22\" >0.010000</td>\n",
              "      <td id=\"T_77e4e_row5_col23\" class=\"data row5 col23\" >-0.010000</td>\n",
              "      <td id=\"T_77e4e_row5_col24\" class=\"data row5 col24\" >0.040000</td>\n",
              "      <td id=\"T_77e4e_row5_col25\" class=\"data row5 col25\" >0.020000</td>\n",
              "      <td id=\"T_77e4e_row5_col26\" class=\"data row5 col26\" >-0.050000</td>\n",
              "      <td id=\"T_77e4e_row5_col27\" class=\"data row5 col27\" >0.000000</td>\n",
              "      <td id=\"T_77e4e_row5_col28\" class=\"data row5 col28\" >0.010000</td>\n",
              "      <td id=\"T_77e4e_row5_col29\" class=\"data row5 col29\" >22.000000</td>\n",
              "      <td id=\"T_77e4e_row5_col30\" class=\"data row5 col30\" >0.000000</td>\n",
              "      <td id=\"T_77e4e_row5_col31\" class=\"data row5 col31\" >-0.280000</td>\n",
              "    </tr>\n",
              "    <tr>\n",
              "      <th id=\"T_77e4e_level0_row6\" class=\"row_heading level0 row6\" >75%</th>\n",
              "      <td id=\"T_77e4e_row6_col0\" class=\"data row6 col0\" >139298.000000</td>\n",
              "      <td id=\"T_77e4e_row6_col1\" class=\"data row6 col1\" >1.320000</td>\n",
              "      <td id=\"T_77e4e_row6_col2\" class=\"data row6 col2\" >0.800000</td>\n",
              "      <td id=\"T_77e4e_row6_col3\" class=\"data row6 col3\" >1.030000</td>\n",
              "      <td id=\"T_77e4e_row6_col4\" class=\"data row6 col4\" >0.740000</td>\n",
              "      <td id=\"T_77e4e_row6_col5\" class=\"data row6 col5\" >0.610000</td>\n",
              "      <td id=\"T_77e4e_row6_col6\" class=\"data row6 col6\" >0.400000</td>\n",
              "      <td id=\"T_77e4e_row6_col7\" class=\"data row6 col7\" >0.570000</td>\n",
              "      <td id=\"T_77e4e_row6_col8\" class=\"data row6 col8\" >0.330000</td>\n",
              "      <td id=\"T_77e4e_row6_col9\" class=\"data row6 col9\" >0.600000</td>\n",
              "      <td id=\"T_77e4e_row6_col10\" class=\"data row6 col10\" >0.450000</td>\n",
              "      <td id=\"T_77e4e_row6_col11\" class=\"data row6 col11\" >0.740000</td>\n",
              "      <td id=\"T_77e4e_row6_col12\" class=\"data row6 col12\" >0.620000</td>\n",
              "      <td id=\"T_77e4e_row6_col13\" class=\"data row6 col13\" >0.660000</td>\n",
              "      <td id=\"T_77e4e_row6_col14\" class=\"data row6 col14\" >0.490000</td>\n",
              "      <td id=\"T_77e4e_row6_col15\" class=\"data row6 col15\" >0.650000</td>\n",
              "      <td id=\"T_77e4e_row6_col16\" class=\"data row6 col16\" >0.520000</td>\n",
              "      <td id=\"T_77e4e_row6_col17\" class=\"data row6 col17\" >0.400000</td>\n",
              "      <td id=\"T_77e4e_row6_col18\" class=\"data row6 col18\" >0.500000</td>\n",
              "      <td id=\"T_77e4e_row6_col19\" class=\"data row6 col19\" >0.460000</td>\n",
              "      <td id=\"T_77e4e_row6_col20\" class=\"data row6 col20\" >0.130000</td>\n",
              "      <td id=\"T_77e4e_row6_col21\" class=\"data row6 col21\" >0.190000</td>\n",
              "      <td id=\"T_77e4e_row6_col22\" class=\"data row6 col22\" >0.530000</td>\n",
              "      <td id=\"T_77e4e_row6_col23\" class=\"data row6 col23\" >0.150000</td>\n",
              "      <td id=\"T_77e4e_row6_col24\" class=\"data row6 col24\" >0.440000</td>\n",
              "      <td id=\"T_77e4e_row6_col25\" class=\"data row6 col25\" >0.350000</td>\n",
              "      <td id=\"T_77e4e_row6_col26\" class=\"data row6 col26\" >0.240000</td>\n",
              "      <td id=\"T_77e4e_row6_col27\" class=\"data row6 col27\" >0.090000</td>\n",
              "      <td id=\"T_77e4e_row6_col28\" class=\"data row6 col28\" >0.080000</td>\n",
              "      <td id=\"T_77e4e_row6_col29\" class=\"data row6 col29\" >77.500000</td>\n",
              "      <td id=\"T_77e4e_row6_col30\" class=\"data row6 col30\" >0.000000</td>\n",
              "      <td id=\"T_77e4e_row6_col31\" class=\"data row6 col31\" >-0.040000</td>\n",
              "    </tr>\n",
              "    <tr>\n",
              "      <th id=\"T_77e4e_level0_row7\" class=\"row_heading level0 row7\" >max</th>\n",
              "      <td id=\"T_77e4e_row7_col0\" class=\"data row7 col0\" >172792.000000</td>\n",
              "      <td id=\"T_77e4e_row7_col1\" class=\"data row7 col1\" >2.450000</td>\n",
              "      <td id=\"T_77e4e_row7_col2\" class=\"data row7 col2\" >22.060000</td>\n",
              "      <td id=\"T_77e4e_row7_col3\" class=\"data row7 col3\" >9.380000</td>\n",
              "      <td id=\"T_77e4e_row7_col4\" class=\"data row7 col4\" >16.490000</td>\n",
              "      <td id=\"T_77e4e_row7_col5\" class=\"data row7 col5\" >34.800000</td>\n",
              "      <td id=\"T_77e4e_row7_col6\" class=\"data row7 col6\" >22.530000</td>\n",
              "      <td id=\"T_77e4e_row7_col7\" class=\"data row7 col7\" >36.880000</td>\n",
              "      <td id=\"T_77e4e_row7_col8\" class=\"data row7 col8\" >20.010000</td>\n",
              "      <td id=\"T_77e4e_row7_col9\" class=\"data row7 col9\" >15.590000</td>\n",
              "      <td id=\"T_77e4e_row7_col10\" class=\"data row7 col10\" >23.750000</td>\n",
              "      <td id=\"T_77e4e_row7_col11\" class=\"data row7 col11\" >12.020000</td>\n",
              "      <td id=\"T_77e4e_row7_col12\" class=\"data row7 col12\" >7.850000</td>\n",
              "      <td id=\"T_77e4e_row7_col13\" class=\"data row7 col13\" >4.570000</td>\n",
              "      <td id=\"T_77e4e_row7_col14\" class=\"data row7 col14\" >10.530000</td>\n",
              "      <td id=\"T_77e4e_row7_col15\" class=\"data row7 col15\" >5.830000</td>\n",
              "      <td id=\"T_77e4e_row7_col16\" class=\"data row7 col16\" >8.290000</td>\n",
              "      <td id=\"T_77e4e_row7_col17\" class=\"data row7 col17\" >9.250000</td>\n",
              "      <td id=\"T_77e4e_row7_col18\" class=\"data row7 col18\" >4.300000</td>\n",
              "      <td id=\"T_77e4e_row7_col19\" class=\"data row7 col19\" >5.590000</td>\n",
              "      <td id=\"T_77e4e_row7_col20\" class=\"data row7 col20\" >23.640000</td>\n",
              "      <td id=\"T_77e4e_row7_col21\" class=\"data row7 col21\" >27.200000</td>\n",
              "      <td id=\"T_77e4e_row7_col22\" class=\"data row7 col22\" >10.500000</td>\n",
              "      <td id=\"T_77e4e_row7_col23\" class=\"data row7 col23\" >22.530000</td>\n",
              "      <td id=\"T_77e4e_row7_col24\" class=\"data row7 col24\" >4.020000</td>\n",
              "      <td id=\"T_77e4e_row7_col25\" class=\"data row7 col25\" >7.520000</td>\n",
              "      <td id=\"T_77e4e_row7_col26\" class=\"data row7 col26\" >3.520000</td>\n",
              "      <td id=\"T_77e4e_row7_col27\" class=\"data row7 col27\" >11.140000</td>\n",
              "      <td id=\"T_77e4e_row7_col28\" class=\"data row7 col28\" >33.850000</td>\n",
              "      <td id=\"T_77e4e_row7_col29\" class=\"data row7 col29\" >8360.000000</td>\n",
              "      <td id=\"T_77e4e_row7_col30\" class=\"data row7 col30\" >1.000000</td>\n",
              "      <td id=\"T_77e4e_row7_col31\" class=\"data row7 col31\" >35.270000</td>\n",
              "    </tr>\n",
              "  </tbody>\n",
              "</table>\n"
            ]
          },
          "metadata": {},
          "execution_count": 40
        }
      ]
    },
    {
      "cell_type": "markdown",
      "source": [
        "Balance data"
      ],
      "metadata": {
        "id": "qwlcm-i7sJdZ"
      }
    },
    {
      "cell_type": "code",
      "source": [
        "X = data.drop('Class', axis = 1)\n",
        "y = data['Class']"
      ],
      "metadata": {
        "id": "KSXafxchsNUa"
      },
      "execution_count": null,
      "outputs": []
    },
    {
      "cell_type": "code",
      "source": [
        "from imblearn.over_sampling import SMOTE "
      ],
      "metadata": {
        "id": "839LRvoLsSnK"
      },
      "execution_count": null,
      "outputs": []
    },
    {
      "cell_type": "code",
      "source": [
        "smote=SMOTE(random_state=42)\n",
        "X_resampled, y_resampled = smote.fit_resample(X, y)"
      ],
      "metadata": {
        "id": "wVJ_9nx2sWG6"
      },
      "execution_count": null,
      "outputs": []
    },
    {
      "cell_type": "code",
      "source": [
        "fig = px.pie(values=y_resampled.value_counts(), width=800, height=400, title=\"Data Balance\",color_discrete_sequence=[\"skyblue\",\"black\"])\n",
        "fig.show()"
      ],
      "metadata": {
        "id": "E3OAMwhbsaQq",
        "outputId": "1eeca8f1-af99-41a5-d092-bfc44bc4dabf",
        "colab": {
          "base_uri": "https://localhost:8080/",
          "height": 417
        }
      },
      "execution_count": null,
      "outputs": [
        {
          "output_type": "display_data",
          "data": {
            "text/html": [
              "<html>\n",
              "<head><meta charset=\"utf-8\" /></head>\n",
              "<body>\n",
              "    <div>            <script src=\"https://cdnjs.cloudflare.com/ajax/libs/mathjax/2.7.5/MathJax.js?config=TeX-AMS-MML_SVG\"></script><script type=\"text/javascript\">if (window.MathJax) {MathJax.Hub.Config({SVG: {font: \"STIX-Web\"}});}</script>                <script type=\"text/javascript\">window.PlotlyConfig = {MathJaxConfig: 'local'};</script>\n",
              "        <script src=\"https://cdn.plot.ly/plotly-2.8.3.min.js\"></script>                <div id=\"7abe71c8-e12b-4824-b917-f5caf853b917\" class=\"plotly-graph-div\" style=\"height:400px; width:800px;\"></div>            <script type=\"text/javascript\">                                    window.PLOTLYENV=window.PLOTLYENV || {};                                    if (document.getElementById(\"7abe71c8-e12b-4824-b917-f5caf853b917\")) {                    Plotly.newPlot(                        \"7abe71c8-e12b-4824-b917-f5caf853b917\",                        [{\"domain\":{\"x\":[0.0,1.0],\"y\":[0.0,1.0]},\"hovertemplate\":\"value=%{value}<extra></extra>\",\"legendgroup\":\"\",\"name\":\"\",\"showlegend\":false,\"values\":[283243,283243],\"type\":\"pie\"}],                        {\"template\":{\"data\":{\"bar\":[{\"error_x\":{\"color\":\"#2a3f5f\"},\"error_y\":{\"color\":\"#2a3f5f\"},\"marker\":{\"line\":{\"color\":\"#E5ECF6\",\"width\":0.5},\"pattern\":{\"fillmode\":\"overlay\",\"size\":10,\"solidity\":0.2}},\"type\":\"bar\"}],\"barpolar\":[{\"marker\":{\"line\":{\"color\":\"#E5ECF6\",\"width\":0.5},\"pattern\":{\"fillmode\":\"overlay\",\"size\":10,\"solidity\":0.2}},\"type\":\"barpolar\"}],\"carpet\":[{\"aaxis\":{\"endlinecolor\":\"#2a3f5f\",\"gridcolor\":\"white\",\"linecolor\":\"white\",\"minorgridcolor\":\"white\",\"startlinecolor\":\"#2a3f5f\"},\"baxis\":{\"endlinecolor\":\"#2a3f5f\",\"gridcolor\":\"white\",\"linecolor\":\"white\",\"minorgridcolor\":\"white\",\"startlinecolor\":\"#2a3f5f\"},\"type\":\"carpet\"}],\"choropleth\":[{\"colorbar\":{\"outlinewidth\":0,\"ticks\":\"\"},\"type\":\"choropleth\"}],\"contour\":[{\"colorbar\":{\"outlinewidth\":0,\"ticks\":\"\"},\"colorscale\":[[0.0,\"#0d0887\"],[0.1111111111111111,\"#46039f\"],[0.2222222222222222,\"#7201a8\"],[0.3333333333333333,\"#9c179e\"],[0.4444444444444444,\"#bd3786\"],[0.5555555555555556,\"#d8576b\"],[0.6666666666666666,\"#ed7953\"],[0.7777777777777778,\"#fb9f3a\"],[0.8888888888888888,\"#fdca26\"],[1.0,\"#f0f921\"]],\"type\":\"contour\"}],\"contourcarpet\":[{\"colorbar\":{\"outlinewidth\":0,\"ticks\":\"\"},\"type\":\"contourcarpet\"}],\"heatmap\":[{\"colorbar\":{\"outlinewidth\":0,\"ticks\":\"\"},\"colorscale\":[[0.0,\"#0d0887\"],[0.1111111111111111,\"#46039f\"],[0.2222222222222222,\"#7201a8\"],[0.3333333333333333,\"#9c179e\"],[0.4444444444444444,\"#bd3786\"],[0.5555555555555556,\"#d8576b\"],[0.6666666666666666,\"#ed7953\"],[0.7777777777777778,\"#fb9f3a\"],[0.8888888888888888,\"#fdca26\"],[1.0,\"#f0f921\"]],\"type\":\"heatmap\"}],\"heatmapgl\":[{\"colorbar\":{\"outlinewidth\":0,\"ticks\":\"\"},\"colorscale\":[[0.0,\"#0d0887\"],[0.1111111111111111,\"#46039f\"],[0.2222222222222222,\"#7201a8\"],[0.3333333333333333,\"#9c179e\"],[0.4444444444444444,\"#bd3786\"],[0.5555555555555556,\"#d8576b\"],[0.6666666666666666,\"#ed7953\"],[0.7777777777777778,\"#fb9f3a\"],[0.8888888888888888,\"#fdca26\"],[1.0,\"#f0f921\"]],\"type\":\"heatmapgl\"}],\"histogram\":[{\"marker\":{\"pattern\":{\"fillmode\":\"overlay\",\"size\":10,\"solidity\":0.2}},\"type\":\"histogram\"}],\"histogram2d\":[{\"colorbar\":{\"outlinewidth\":0,\"ticks\":\"\"},\"colorscale\":[[0.0,\"#0d0887\"],[0.1111111111111111,\"#46039f\"],[0.2222222222222222,\"#7201a8\"],[0.3333333333333333,\"#9c179e\"],[0.4444444444444444,\"#bd3786\"],[0.5555555555555556,\"#d8576b\"],[0.6666666666666666,\"#ed7953\"],[0.7777777777777778,\"#fb9f3a\"],[0.8888888888888888,\"#fdca26\"],[1.0,\"#f0f921\"]],\"type\":\"histogram2d\"}],\"histogram2dcontour\":[{\"colorbar\":{\"outlinewidth\":0,\"ticks\":\"\"},\"colorscale\":[[0.0,\"#0d0887\"],[0.1111111111111111,\"#46039f\"],[0.2222222222222222,\"#7201a8\"],[0.3333333333333333,\"#9c179e\"],[0.4444444444444444,\"#bd3786\"],[0.5555555555555556,\"#d8576b\"],[0.6666666666666666,\"#ed7953\"],[0.7777777777777778,\"#fb9f3a\"],[0.8888888888888888,\"#fdca26\"],[1.0,\"#f0f921\"]],\"type\":\"histogram2dcontour\"}],\"mesh3d\":[{\"colorbar\":{\"outlinewidth\":0,\"ticks\":\"\"},\"type\":\"mesh3d\"}],\"parcoords\":[{\"line\":{\"colorbar\":{\"outlinewidth\":0,\"ticks\":\"\"}},\"type\":\"parcoords\"}],\"pie\":[{\"automargin\":true,\"type\":\"pie\"}],\"scatter\":[{\"marker\":{\"colorbar\":{\"outlinewidth\":0,\"ticks\":\"\"}},\"type\":\"scatter\"}],\"scatter3d\":[{\"line\":{\"colorbar\":{\"outlinewidth\":0,\"ticks\":\"\"}},\"marker\":{\"colorbar\":{\"outlinewidth\":0,\"ticks\":\"\"}},\"type\":\"scatter3d\"}],\"scattercarpet\":[{\"marker\":{\"colorbar\":{\"outlinewidth\":0,\"ticks\":\"\"}},\"type\":\"scattercarpet\"}],\"scattergeo\":[{\"marker\":{\"colorbar\":{\"outlinewidth\":0,\"ticks\":\"\"}},\"type\":\"scattergeo\"}],\"scattergl\":[{\"marker\":{\"colorbar\":{\"outlinewidth\":0,\"ticks\":\"\"}},\"type\":\"scattergl\"}],\"scattermapbox\":[{\"marker\":{\"colorbar\":{\"outlinewidth\":0,\"ticks\":\"\"}},\"type\":\"scattermapbox\"}],\"scatterpolar\":[{\"marker\":{\"colorbar\":{\"outlinewidth\":0,\"ticks\":\"\"}},\"type\":\"scatterpolar\"}],\"scatterpolargl\":[{\"marker\":{\"colorbar\":{\"outlinewidth\":0,\"ticks\":\"\"}},\"type\":\"scatterpolargl\"}],\"scatterternary\":[{\"marker\":{\"colorbar\":{\"outlinewidth\":0,\"ticks\":\"\"}},\"type\":\"scatterternary\"}],\"surface\":[{\"colorbar\":{\"outlinewidth\":0,\"ticks\":\"\"},\"colorscale\":[[0.0,\"#0d0887\"],[0.1111111111111111,\"#46039f\"],[0.2222222222222222,\"#7201a8\"],[0.3333333333333333,\"#9c179e\"],[0.4444444444444444,\"#bd3786\"],[0.5555555555555556,\"#d8576b\"],[0.6666666666666666,\"#ed7953\"],[0.7777777777777778,\"#fb9f3a\"],[0.8888888888888888,\"#fdca26\"],[1.0,\"#f0f921\"]],\"type\":\"surface\"}],\"table\":[{\"cells\":{\"fill\":{\"color\":\"#EBF0F8\"},\"line\":{\"color\":\"white\"}},\"header\":{\"fill\":{\"color\":\"#C8D4E3\"},\"line\":{\"color\":\"white\"}},\"type\":\"table\"}]},\"layout\":{\"annotationdefaults\":{\"arrowcolor\":\"#2a3f5f\",\"arrowhead\":0,\"arrowwidth\":1},\"autotypenumbers\":\"strict\",\"coloraxis\":{\"colorbar\":{\"outlinewidth\":0,\"ticks\":\"\"}},\"colorscale\":{\"diverging\":[[0,\"#8e0152\"],[0.1,\"#c51b7d\"],[0.2,\"#de77ae\"],[0.3,\"#f1b6da\"],[0.4,\"#fde0ef\"],[0.5,\"#f7f7f7\"],[0.6,\"#e6f5d0\"],[0.7,\"#b8e186\"],[0.8,\"#7fbc41\"],[0.9,\"#4d9221\"],[1,\"#276419\"]],\"sequential\":[[0.0,\"#0d0887\"],[0.1111111111111111,\"#46039f\"],[0.2222222222222222,\"#7201a8\"],[0.3333333333333333,\"#9c179e\"],[0.4444444444444444,\"#bd3786\"],[0.5555555555555556,\"#d8576b\"],[0.6666666666666666,\"#ed7953\"],[0.7777777777777778,\"#fb9f3a\"],[0.8888888888888888,\"#fdca26\"],[1.0,\"#f0f921\"]],\"sequentialminus\":[[0.0,\"#0d0887\"],[0.1111111111111111,\"#46039f\"],[0.2222222222222222,\"#7201a8\"],[0.3333333333333333,\"#9c179e\"],[0.4444444444444444,\"#bd3786\"],[0.5555555555555556,\"#d8576b\"],[0.6666666666666666,\"#ed7953\"],[0.7777777777777778,\"#fb9f3a\"],[0.8888888888888888,\"#fdca26\"],[1.0,\"#f0f921\"]]},\"colorway\":[\"#636efa\",\"#EF553B\",\"#00cc96\",\"#ab63fa\",\"#FFA15A\",\"#19d3f3\",\"#FF6692\",\"#B6E880\",\"#FF97FF\",\"#FECB52\"],\"font\":{\"color\":\"#2a3f5f\"},\"geo\":{\"bgcolor\":\"white\",\"lakecolor\":\"white\",\"landcolor\":\"#E5ECF6\",\"showlakes\":true,\"showland\":true,\"subunitcolor\":\"white\"},\"hoverlabel\":{\"align\":\"left\"},\"hovermode\":\"closest\",\"mapbox\":{\"style\":\"light\"},\"paper_bgcolor\":\"white\",\"plot_bgcolor\":\"#E5ECF6\",\"polar\":{\"angularaxis\":{\"gridcolor\":\"white\",\"linecolor\":\"white\",\"ticks\":\"\"},\"bgcolor\":\"#E5ECF6\",\"radialaxis\":{\"gridcolor\":\"white\",\"linecolor\":\"white\",\"ticks\":\"\"}},\"scene\":{\"xaxis\":{\"backgroundcolor\":\"#E5ECF6\",\"gridcolor\":\"white\",\"gridwidth\":2,\"linecolor\":\"white\",\"showbackground\":true,\"ticks\":\"\",\"zerolinecolor\":\"white\"},\"yaxis\":{\"backgroundcolor\":\"#E5ECF6\",\"gridcolor\":\"white\",\"gridwidth\":2,\"linecolor\":\"white\",\"showbackground\":true,\"ticks\":\"\",\"zerolinecolor\":\"white\"},\"zaxis\":{\"backgroundcolor\":\"#E5ECF6\",\"gridcolor\":\"white\",\"gridwidth\":2,\"linecolor\":\"white\",\"showbackground\":true,\"ticks\":\"\",\"zerolinecolor\":\"white\"}},\"shapedefaults\":{\"line\":{\"color\":\"#2a3f5f\"}},\"ternary\":{\"aaxis\":{\"gridcolor\":\"white\",\"linecolor\":\"white\",\"ticks\":\"\"},\"baxis\":{\"gridcolor\":\"white\",\"linecolor\":\"white\",\"ticks\":\"\"},\"bgcolor\":\"#E5ECF6\",\"caxis\":{\"gridcolor\":\"white\",\"linecolor\":\"white\",\"ticks\":\"\"}},\"title\":{\"x\":0.05},\"xaxis\":{\"automargin\":true,\"gridcolor\":\"white\",\"linecolor\":\"white\",\"ticks\":\"\",\"title\":{\"standoff\":15},\"zerolinecolor\":\"white\",\"zerolinewidth\":2},\"yaxis\":{\"automargin\":true,\"gridcolor\":\"white\",\"linecolor\":\"white\",\"ticks\":\"\",\"title\":{\"standoff\":15},\"zerolinecolor\":\"white\",\"zerolinewidth\":2}}},\"legend\":{\"tracegroupgap\":0},\"title\":{\"text\":\"Data Balance\"},\"piecolorway\":[\"skyblue\",\"black\"],\"height\":400,\"width\":800},                        {\"responsive\": true}                    ).then(function(){\n",
              "                            \n",
              "var gd = document.getElementById('7abe71c8-e12b-4824-b917-f5caf853b917');\n",
              "var x = new MutationObserver(function (mutations, observer) {{\n",
              "        var display = window.getComputedStyle(gd).display;\n",
              "        if (!display || display === 'none') {{\n",
              "            console.log([gd, 'removed!']);\n",
              "            Plotly.purge(gd);\n",
              "            observer.disconnect();\n",
              "        }}\n",
              "}});\n",
              "\n",
              "// Listen for the removal of the full notebook cells\n",
              "var notebookContainer = gd.closest('#notebook-container');\n",
              "if (notebookContainer) {{\n",
              "    x.observe(notebookContainer, {childList: true});\n",
              "}}\n",
              "\n",
              "// Listen for the clearing of the current output cell\n",
              "var outputEl = gd.closest('.output');\n",
              "if (outputEl) {{\n",
              "    x.observe(outputEl, {childList: true});\n",
              "}}\n",
              "\n",
              "                        })                };                            </script>        </div>\n",
              "</body>\n",
              "</html>"
            ]
          },
          "metadata": {}
        }
      ]
    },
    {
      "cell_type": "markdown",
      "source": [
        "Split the data"
      ],
      "metadata": {
        "id": "pVezQPYIsijB"
      }
    },
    {
      "cell_type": "code",
      "source": [
        "from sklearn.model_selection import train_test_split"
      ],
      "metadata": {
        "id": "MbIZyil9slHi"
      },
      "execution_count": null,
      "outputs": []
    },
    {
      "cell_type": "code",
      "source": [
        "X_train, X_test, y_train, y_test = train_test_split(X_resampled, y_resampled, test_size = 0.2, random_state = 0)"
      ],
      "metadata": {
        "id": "fLGagmVcso6R"
      },
      "execution_count": null,
      "outputs": []
    },
    {
      "cell_type": "markdown",
      "source": [
        "Modelling"
      ],
      "metadata": {
        "id": "S52KtGVCsuvB"
      }
    },
    {
      "cell_type": "code",
      "source": [
        "from sklearn.ensemble import RandomForestClassifier"
      ],
      "metadata": {
        "id": "zO0h2EDks5eq"
      },
      "execution_count": null,
      "outputs": []
    },
    {
      "cell_type": "code",
      "source": [
        "Rclf = RandomForestClassifier(max_features=8 , max_depth=6)"
      ],
      "metadata": {
        "id": "4zUprus6s896"
      },
      "execution_count": null,
      "outputs": []
    },
    {
      "cell_type": "code",
      "source": [
        "Rclf.fit(X_train, y_train)"
      ],
      "metadata": {
        "id": "G97L7qFCtF6J",
        "outputId": "800c7b7f-b2f8-4743-c2af-11f72b60f085",
        "colab": {
          "base_uri": "https://localhost:8080/"
        }
      },
      "execution_count": null,
      "outputs": [
        {
          "output_type": "execute_result",
          "data": {
            "text/plain": [
              "RandomForestClassifier(max_depth=6, max_features=8)"
            ]
          },
          "metadata": {},
          "execution_count": 49
        }
      ]
    },
    {
      "cell_type": "code",
      "source": [
        "Rclf.score(X_train, y_train).round(5)"
      ],
      "metadata": {
        "id": "mzjMnuROtSgz",
        "outputId": "5b5b3262-fce9-49e6-f5ad-8598d3bf58b0",
        "colab": {
          "base_uri": "https://localhost:8080/"
        }
      },
      "execution_count": null,
      "outputs": [
        {
          "output_type": "execute_result",
          "data": {
            "text/plain": [
              "0.97497"
            ]
          },
          "metadata": {},
          "execution_count": 50
        }
      ]
    },
    {
      "cell_type": "code",
      "source": [
        "Rclf.score(X_test, y_test).round(5)"
      ],
      "metadata": {
        "id": "LQPZF4cNtUKR",
        "outputId": "e5ca2214-69ca-4ca5-9c29-fdf18f1d4164",
        "colab": {
          "base_uri": "https://localhost:8080/"
        }
      },
      "execution_count": null,
      "outputs": [
        {
          "output_type": "execute_result",
          "data": {
            "text/plain": [
              "0.97432"
            ]
          },
          "metadata": {},
          "execution_count": 51
        }
      ]
    },
    {
      "cell_type": "code",
      "source": [
        "Name_features=X.columns\n",
        "FeatureImportances=pd.DataFrame(Rclf.feature_importances_,index=Name_features).sort_values(by=0,axis = 0, ascending = False)"
      ],
      "metadata": {
        "id": "cuvimjTWtYIq"
      },
      "execution_count": null,
      "outputs": []
    },
    {
      "cell_type": "markdown",
      "source": [
        "Check features effecting the target the most"
      ],
      "metadata": {
        "id": "BzgiHuU0tuPd"
      }
    },
    {
      "cell_type": "code",
      "source": [
        "fig = px.bar(FeatureImportances.head(8)) \n",
        "fig.show()"
      ],
      "metadata": {
        "id": "66MGO5tPtb0J",
        "outputId": "c5814c1e-a660-4c91-b041-e81f3dc949b2",
        "colab": {
          "base_uri": "https://localhost:8080/",
          "height": 542
        }
      },
      "execution_count": null,
      "outputs": [
        {
          "output_type": "display_data",
          "data": {
            "text/html": [
              "<html>\n",
              "<head><meta charset=\"utf-8\" /></head>\n",
              "<body>\n",
              "    <div>            <script src=\"https://cdnjs.cloudflare.com/ajax/libs/mathjax/2.7.5/MathJax.js?config=TeX-AMS-MML_SVG\"></script><script type=\"text/javascript\">if (window.MathJax) {MathJax.Hub.Config({SVG: {font: \"STIX-Web\"}});}</script>                <script type=\"text/javascript\">window.PlotlyConfig = {MathJaxConfig: 'local'};</script>\n",
              "        <script src=\"https://cdn.plot.ly/plotly-2.8.3.min.js\"></script>                <div id=\"a2c2cc97-185e-4657-8665-0b7dfa429036\" class=\"plotly-graph-div\" style=\"height:525px; width:100%;\"></div>            <script type=\"text/javascript\">                                    window.PLOTLYENV=window.PLOTLYENV || {};                                    if (document.getElementById(\"a2c2cc97-185e-4657-8665-0b7dfa429036\")) {                    Plotly.newPlot(                        \"a2c2cc97-185e-4657-8665-0b7dfa429036\",                        [{\"alignmentgroup\":\"True\",\"hovertemplate\":\"variable=0<br>index=%{x}<br>value=%{y}<extra></extra>\",\"legendgroup\":\"0\",\"marker\":{\"color\":\"#636efa\",\"pattern\":{\"shape\":\"\"}},\"name\":\"0\",\"offsetgroup\":\"0\",\"orientation\":\"v\",\"showlegend\":true,\"textposition\":\"auto\",\"x\":[\"V14\",\"V10\",\"V12\",\"V4\",\"V17\",\"V11\",\"V3\",\"V16\"],\"xaxis\":\"x\",\"y\":[0.355984215972641,0.15240065970290043,0.13397374875926277,0.11359367325264065,0.07502376715627658,0.054484603659714394,0.03375591111616698,0.027813004370610725],\"yaxis\":\"y\",\"type\":\"bar\"}],                        {\"template\":{\"data\":{\"bar\":[{\"error_x\":{\"color\":\"#2a3f5f\"},\"error_y\":{\"color\":\"#2a3f5f\"},\"marker\":{\"line\":{\"color\":\"#E5ECF6\",\"width\":0.5},\"pattern\":{\"fillmode\":\"overlay\",\"size\":10,\"solidity\":0.2}},\"type\":\"bar\"}],\"barpolar\":[{\"marker\":{\"line\":{\"color\":\"#E5ECF6\",\"width\":0.5},\"pattern\":{\"fillmode\":\"overlay\",\"size\":10,\"solidity\":0.2}},\"type\":\"barpolar\"}],\"carpet\":[{\"aaxis\":{\"endlinecolor\":\"#2a3f5f\",\"gridcolor\":\"white\",\"linecolor\":\"white\",\"minorgridcolor\":\"white\",\"startlinecolor\":\"#2a3f5f\"},\"baxis\":{\"endlinecolor\":\"#2a3f5f\",\"gridcolor\":\"white\",\"linecolor\":\"white\",\"minorgridcolor\":\"white\",\"startlinecolor\":\"#2a3f5f\"},\"type\":\"carpet\"}],\"choropleth\":[{\"colorbar\":{\"outlinewidth\":0,\"ticks\":\"\"},\"type\":\"choropleth\"}],\"contour\":[{\"colorbar\":{\"outlinewidth\":0,\"ticks\":\"\"},\"colorscale\":[[0.0,\"#0d0887\"],[0.1111111111111111,\"#46039f\"],[0.2222222222222222,\"#7201a8\"],[0.3333333333333333,\"#9c179e\"],[0.4444444444444444,\"#bd3786\"],[0.5555555555555556,\"#d8576b\"],[0.6666666666666666,\"#ed7953\"],[0.7777777777777778,\"#fb9f3a\"],[0.8888888888888888,\"#fdca26\"],[1.0,\"#f0f921\"]],\"type\":\"contour\"}],\"contourcarpet\":[{\"colorbar\":{\"outlinewidth\":0,\"ticks\":\"\"},\"type\":\"contourcarpet\"}],\"heatmap\":[{\"colorbar\":{\"outlinewidth\":0,\"ticks\":\"\"},\"colorscale\":[[0.0,\"#0d0887\"],[0.1111111111111111,\"#46039f\"],[0.2222222222222222,\"#7201a8\"],[0.3333333333333333,\"#9c179e\"],[0.4444444444444444,\"#bd3786\"],[0.5555555555555556,\"#d8576b\"],[0.6666666666666666,\"#ed7953\"],[0.7777777777777778,\"#fb9f3a\"],[0.8888888888888888,\"#fdca26\"],[1.0,\"#f0f921\"]],\"type\":\"heatmap\"}],\"heatmapgl\":[{\"colorbar\":{\"outlinewidth\":0,\"ticks\":\"\"},\"colorscale\":[[0.0,\"#0d0887\"],[0.1111111111111111,\"#46039f\"],[0.2222222222222222,\"#7201a8\"],[0.3333333333333333,\"#9c179e\"],[0.4444444444444444,\"#bd3786\"],[0.5555555555555556,\"#d8576b\"],[0.6666666666666666,\"#ed7953\"],[0.7777777777777778,\"#fb9f3a\"],[0.8888888888888888,\"#fdca26\"],[1.0,\"#f0f921\"]],\"type\":\"heatmapgl\"}],\"histogram\":[{\"marker\":{\"pattern\":{\"fillmode\":\"overlay\",\"size\":10,\"solidity\":0.2}},\"type\":\"histogram\"}],\"histogram2d\":[{\"colorbar\":{\"outlinewidth\":0,\"ticks\":\"\"},\"colorscale\":[[0.0,\"#0d0887\"],[0.1111111111111111,\"#46039f\"],[0.2222222222222222,\"#7201a8\"],[0.3333333333333333,\"#9c179e\"],[0.4444444444444444,\"#bd3786\"],[0.5555555555555556,\"#d8576b\"],[0.6666666666666666,\"#ed7953\"],[0.7777777777777778,\"#fb9f3a\"],[0.8888888888888888,\"#fdca26\"],[1.0,\"#f0f921\"]],\"type\":\"histogram2d\"}],\"histogram2dcontour\":[{\"colorbar\":{\"outlinewidth\":0,\"ticks\":\"\"},\"colorscale\":[[0.0,\"#0d0887\"],[0.1111111111111111,\"#46039f\"],[0.2222222222222222,\"#7201a8\"],[0.3333333333333333,\"#9c179e\"],[0.4444444444444444,\"#bd3786\"],[0.5555555555555556,\"#d8576b\"],[0.6666666666666666,\"#ed7953\"],[0.7777777777777778,\"#fb9f3a\"],[0.8888888888888888,\"#fdca26\"],[1.0,\"#f0f921\"]],\"type\":\"histogram2dcontour\"}],\"mesh3d\":[{\"colorbar\":{\"outlinewidth\":0,\"ticks\":\"\"},\"type\":\"mesh3d\"}],\"parcoords\":[{\"line\":{\"colorbar\":{\"outlinewidth\":0,\"ticks\":\"\"}},\"type\":\"parcoords\"}],\"pie\":[{\"automargin\":true,\"type\":\"pie\"}],\"scatter\":[{\"marker\":{\"colorbar\":{\"outlinewidth\":0,\"ticks\":\"\"}},\"type\":\"scatter\"}],\"scatter3d\":[{\"line\":{\"colorbar\":{\"outlinewidth\":0,\"ticks\":\"\"}},\"marker\":{\"colorbar\":{\"outlinewidth\":0,\"ticks\":\"\"}},\"type\":\"scatter3d\"}],\"scattercarpet\":[{\"marker\":{\"colorbar\":{\"outlinewidth\":0,\"ticks\":\"\"}},\"type\":\"scattercarpet\"}],\"scattergeo\":[{\"marker\":{\"colorbar\":{\"outlinewidth\":0,\"ticks\":\"\"}},\"type\":\"scattergeo\"}],\"scattergl\":[{\"marker\":{\"colorbar\":{\"outlinewidth\":0,\"ticks\":\"\"}},\"type\":\"scattergl\"}],\"scattermapbox\":[{\"marker\":{\"colorbar\":{\"outlinewidth\":0,\"ticks\":\"\"}},\"type\":\"scattermapbox\"}],\"scatterpolar\":[{\"marker\":{\"colorbar\":{\"outlinewidth\":0,\"ticks\":\"\"}},\"type\":\"scatterpolar\"}],\"scatterpolargl\":[{\"marker\":{\"colorbar\":{\"outlinewidth\":0,\"ticks\":\"\"}},\"type\":\"scatterpolargl\"}],\"scatterternary\":[{\"marker\":{\"colorbar\":{\"outlinewidth\":0,\"ticks\":\"\"}},\"type\":\"scatterternary\"}],\"surface\":[{\"colorbar\":{\"outlinewidth\":0,\"ticks\":\"\"},\"colorscale\":[[0.0,\"#0d0887\"],[0.1111111111111111,\"#46039f\"],[0.2222222222222222,\"#7201a8\"],[0.3333333333333333,\"#9c179e\"],[0.4444444444444444,\"#bd3786\"],[0.5555555555555556,\"#d8576b\"],[0.6666666666666666,\"#ed7953\"],[0.7777777777777778,\"#fb9f3a\"],[0.8888888888888888,\"#fdca26\"],[1.0,\"#f0f921\"]],\"type\":\"surface\"}],\"table\":[{\"cells\":{\"fill\":{\"color\":\"#EBF0F8\"},\"line\":{\"color\":\"white\"}},\"header\":{\"fill\":{\"color\":\"#C8D4E3\"},\"line\":{\"color\":\"white\"}},\"type\":\"table\"}]},\"layout\":{\"annotationdefaults\":{\"arrowcolor\":\"#2a3f5f\",\"arrowhead\":0,\"arrowwidth\":1},\"autotypenumbers\":\"strict\",\"coloraxis\":{\"colorbar\":{\"outlinewidth\":0,\"ticks\":\"\"}},\"colorscale\":{\"diverging\":[[0,\"#8e0152\"],[0.1,\"#c51b7d\"],[0.2,\"#de77ae\"],[0.3,\"#f1b6da\"],[0.4,\"#fde0ef\"],[0.5,\"#f7f7f7\"],[0.6,\"#e6f5d0\"],[0.7,\"#b8e186\"],[0.8,\"#7fbc41\"],[0.9,\"#4d9221\"],[1,\"#276419\"]],\"sequential\":[[0.0,\"#0d0887\"],[0.1111111111111111,\"#46039f\"],[0.2222222222222222,\"#7201a8\"],[0.3333333333333333,\"#9c179e\"],[0.4444444444444444,\"#bd3786\"],[0.5555555555555556,\"#d8576b\"],[0.6666666666666666,\"#ed7953\"],[0.7777777777777778,\"#fb9f3a\"],[0.8888888888888888,\"#fdca26\"],[1.0,\"#f0f921\"]],\"sequentialminus\":[[0.0,\"#0d0887\"],[0.1111111111111111,\"#46039f\"],[0.2222222222222222,\"#7201a8\"],[0.3333333333333333,\"#9c179e\"],[0.4444444444444444,\"#bd3786\"],[0.5555555555555556,\"#d8576b\"],[0.6666666666666666,\"#ed7953\"],[0.7777777777777778,\"#fb9f3a\"],[0.8888888888888888,\"#fdca26\"],[1.0,\"#f0f921\"]]},\"colorway\":[\"#636efa\",\"#EF553B\",\"#00cc96\",\"#ab63fa\",\"#FFA15A\",\"#19d3f3\",\"#FF6692\",\"#B6E880\",\"#FF97FF\",\"#FECB52\"],\"font\":{\"color\":\"#2a3f5f\"},\"geo\":{\"bgcolor\":\"white\",\"lakecolor\":\"white\",\"landcolor\":\"#E5ECF6\",\"showlakes\":true,\"showland\":true,\"subunitcolor\":\"white\"},\"hoverlabel\":{\"align\":\"left\"},\"hovermode\":\"closest\",\"mapbox\":{\"style\":\"light\"},\"paper_bgcolor\":\"white\",\"plot_bgcolor\":\"#E5ECF6\",\"polar\":{\"angularaxis\":{\"gridcolor\":\"white\",\"linecolor\":\"white\",\"ticks\":\"\"},\"bgcolor\":\"#E5ECF6\",\"radialaxis\":{\"gridcolor\":\"white\",\"linecolor\":\"white\",\"ticks\":\"\"}},\"scene\":{\"xaxis\":{\"backgroundcolor\":\"#E5ECF6\",\"gridcolor\":\"white\",\"gridwidth\":2,\"linecolor\":\"white\",\"showbackground\":true,\"ticks\":\"\",\"zerolinecolor\":\"white\"},\"yaxis\":{\"backgroundcolor\":\"#E5ECF6\",\"gridcolor\":\"white\",\"gridwidth\":2,\"linecolor\":\"white\",\"showbackground\":true,\"ticks\":\"\",\"zerolinecolor\":\"white\"},\"zaxis\":{\"backgroundcolor\":\"#E5ECF6\",\"gridcolor\":\"white\",\"gridwidth\":2,\"linecolor\":\"white\",\"showbackground\":true,\"ticks\":\"\",\"zerolinecolor\":\"white\"}},\"shapedefaults\":{\"line\":{\"color\":\"#2a3f5f\"}},\"ternary\":{\"aaxis\":{\"gridcolor\":\"white\",\"linecolor\":\"white\",\"ticks\":\"\"},\"baxis\":{\"gridcolor\":\"white\",\"linecolor\":\"white\",\"ticks\":\"\"},\"bgcolor\":\"#E5ECF6\",\"caxis\":{\"gridcolor\":\"white\",\"linecolor\":\"white\",\"ticks\":\"\"}},\"title\":{\"x\":0.05},\"xaxis\":{\"automargin\":true,\"gridcolor\":\"white\",\"linecolor\":\"white\",\"ticks\":\"\",\"title\":{\"standoff\":15},\"zerolinecolor\":\"white\",\"zerolinewidth\":2},\"yaxis\":{\"automargin\":true,\"gridcolor\":\"white\",\"linecolor\":\"white\",\"ticks\":\"\",\"title\":{\"standoff\":15},\"zerolinecolor\":\"white\",\"zerolinewidth\":2}}},\"xaxis\":{\"anchor\":\"y\",\"domain\":[0.0,1.0],\"title\":{\"text\":\"index\"}},\"yaxis\":{\"anchor\":\"x\",\"domain\":[0.0,1.0],\"title\":{\"text\":\"value\"}},\"legend\":{\"title\":{\"text\":\"variable\"},\"tracegroupgap\":0},\"margin\":{\"t\":60},\"barmode\":\"relative\"},                        {\"responsive\": true}                    ).then(function(){\n",
              "                            \n",
              "var gd = document.getElementById('a2c2cc97-185e-4657-8665-0b7dfa429036');\n",
              "var x = new MutationObserver(function (mutations, observer) {{\n",
              "        var display = window.getComputedStyle(gd).display;\n",
              "        if (!display || display === 'none') {{\n",
              "            console.log([gd, 'removed!']);\n",
              "            Plotly.purge(gd);\n",
              "            observer.disconnect();\n",
              "        }}\n",
              "}});\n",
              "\n",
              "// Listen for the removal of the full notebook cells\n",
              "var notebookContainer = gd.closest('#notebook-container');\n",
              "if (notebookContainer) {{\n",
              "    x.observe(notebookContainer, {childList: true});\n",
              "}}\n",
              "\n",
              "// Listen for the clearing of the current output cell\n",
              "var outputEl = gd.closest('.output');\n",
              "if (outputEl) {{\n",
              "    x.observe(outputEl, {childList: true});\n",
              "}}\n",
              "\n",
              "                        })                };                            </script>        </div>\n",
              "</body>\n",
              "</html>"
            ]
          },
          "metadata": {}
        }
      ]
    },
    {
      "cell_type": "code",
      "source": [
        "Rclf_preds=Rclf.predict(X_test)"
      ],
      "metadata": {
        "id": "hen6CbTyt2ey"
      },
      "execution_count": null,
      "outputs": []
    },
    {
      "cell_type": "code",
      "source": [
        "df = pd.DataFrame({\"Y_test\": y_test , \"Y_predicted\" : Rclf_preds})\n",
        "df.head(8)"
      ],
      "metadata": {
        "id": "ZXc1Vek8t3a9",
        "outputId": "28a97765-8e05-482f-890d-45931f791d64",
        "colab": {
          "base_uri": "https://localhost:8080/",
          "height": 300
        }
      },
      "execution_count": null,
      "outputs": [
        {
          "output_type": "execute_result",
          "data": {
            "text/plain": [
              "        Y_test  Y_predicted\n",
              "380555       1            1\n",
              "159542       0            0\n",
              "372394       1            1\n",
              "259673       0            0\n",
              "314990       1            1\n",
              "183443       0            0\n",
              "127695       0            0\n",
              "70444        0            0"
            ],
            "text/html": [
              "\n",
              "  <div id=\"df-1df6b61b-7c2c-4392-96fc-e86079a510b0\">\n",
              "    <div class=\"colab-df-container\">\n",
              "      <div>\n",
              "<style scoped>\n",
              "    .dataframe tbody tr th:only-of-type {\n",
              "        vertical-align: middle;\n",
              "    }\n",
              "\n",
              "    .dataframe tbody tr th {\n",
              "        vertical-align: top;\n",
              "    }\n",
              "\n",
              "    .dataframe thead th {\n",
              "        text-align: right;\n",
              "    }\n",
              "</style>\n",
              "<table border=\"1\" class=\"dataframe\">\n",
              "  <thead>\n",
              "    <tr style=\"text-align: right;\">\n",
              "      <th></th>\n",
              "      <th>Y_test</th>\n",
              "      <th>Y_predicted</th>\n",
              "    </tr>\n",
              "  </thead>\n",
              "  <tbody>\n",
              "    <tr>\n",
              "      <th>380555</th>\n",
              "      <td>1</td>\n",
              "      <td>1</td>\n",
              "    </tr>\n",
              "    <tr>\n",
              "      <th>159542</th>\n",
              "      <td>0</td>\n",
              "      <td>0</td>\n",
              "    </tr>\n",
              "    <tr>\n",
              "      <th>372394</th>\n",
              "      <td>1</td>\n",
              "      <td>1</td>\n",
              "    </tr>\n",
              "    <tr>\n",
              "      <th>259673</th>\n",
              "      <td>0</td>\n",
              "      <td>0</td>\n",
              "    </tr>\n",
              "    <tr>\n",
              "      <th>314990</th>\n",
              "      <td>1</td>\n",
              "      <td>1</td>\n",
              "    </tr>\n",
              "    <tr>\n",
              "      <th>183443</th>\n",
              "      <td>0</td>\n",
              "      <td>0</td>\n",
              "    </tr>\n",
              "    <tr>\n",
              "      <th>127695</th>\n",
              "      <td>0</td>\n",
              "      <td>0</td>\n",
              "    </tr>\n",
              "    <tr>\n",
              "      <th>70444</th>\n",
              "      <td>0</td>\n",
              "      <td>0</td>\n",
              "    </tr>\n",
              "  </tbody>\n",
              "</table>\n",
              "</div>\n",
              "      <button class=\"colab-df-convert\" onclick=\"convertToInteractive('df-1df6b61b-7c2c-4392-96fc-e86079a510b0')\"\n",
              "              title=\"Convert this dataframe to an interactive table.\"\n",
              "              style=\"display:none;\">\n",
              "        \n",
              "  <svg xmlns=\"http://www.w3.org/2000/svg\" height=\"24px\"viewBox=\"0 0 24 24\"\n",
              "       width=\"24px\">\n",
              "    <path d=\"M0 0h24v24H0V0z\" fill=\"none\"/>\n",
              "    <path d=\"M18.56 5.44l.94 2.06.94-2.06 2.06-.94-2.06-.94-.94-2.06-.94 2.06-2.06.94zm-11 1L8.5 8.5l.94-2.06 2.06-.94-2.06-.94L8.5 2.5l-.94 2.06-2.06.94zm10 10l.94 2.06.94-2.06 2.06-.94-2.06-.94-.94-2.06-.94 2.06-2.06.94z\"/><path d=\"M17.41 7.96l-1.37-1.37c-.4-.4-.92-.59-1.43-.59-.52 0-1.04.2-1.43.59L10.3 9.45l-7.72 7.72c-.78.78-.78 2.05 0 2.83L4 21.41c.39.39.9.59 1.41.59.51 0 1.02-.2 1.41-.59l7.78-7.78 2.81-2.81c.8-.78.8-2.07 0-2.86zM5.41 20L4 18.59l7.72-7.72 1.47 1.35L5.41 20z\"/>\n",
              "  </svg>\n",
              "      </button>\n",
              "      \n",
              "  <style>\n",
              "    .colab-df-container {\n",
              "      display:flex;\n",
              "      flex-wrap:wrap;\n",
              "      gap: 12px;\n",
              "    }\n",
              "\n",
              "    .colab-df-convert {\n",
              "      background-color: #E8F0FE;\n",
              "      border: none;\n",
              "      border-radius: 50%;\n",
              "      cursor: pointer;\n",
              "      display: none;\n",
              "      fill: #1967D2;\n",
              "      height: 32px;\n",
              "      padding: 0 0 0 0;\n",
              "      width: 32px;\n",
              "    }\n",
              "\n",
              "    .colab-df-convert:hover {\n",
              "      background-color: #E2EBFA;\n",
              "      box-shadow: 0px 1px 2px rgba(60, 64, 67, 0.3), 0px 1px 3px 1px rgba(60, 64, 67, 0.15);\n",
              "      fill: #174EA6;\n",
              "    }\n",
              "\n",
              "    [theme=dark] .colab-df-convert {\n",
              "      background-color: #3B4455;\n",
              "      fill: #D2E3FC;\n",
              "    }\n",
              "\n",
              "    [theme=dark] .colab-df-convert:hover {\n",
              "      background-color: #434B5C;\n",
              "      box-shadow: 0px 1px 3px 1px rgba(0, 0, 0, 0.15);\n",
              "      filter: drop-shadow(0px 1px 2px rgba(0, 0, 0, 0.3));\n",
              "      fill: #FFFFFF;\n",
              "    }\n",
              "  </style>\n",
              "\n",
              "      <script>\n",
              "        const buttonEl =\n",
              "          document.querySelector('#df-1df6b61b-7c2c-4392-96fc-e86079a510b0 button.colab-df-convert');\n",
              "        buttonEl.style.display =\n",
              "          google.colab.kernel.accessAllowed ? 'block' : 'none';\n",
              "\n",
              "        async function convertToInteractive(key) {\n",
              "          const element = document.querySelector('#df-1df6b61b-7c2c-4392-96fc-e86079a510b0');\n",
              "          const dataTable =\n",
              "            await google.colab.kernel.invokeFunction('convertToInteractive',\n",
              "                                                     [key], {});\n",
              "          if (!dataTable) return;\n",
              "\n",
              "          const docLinkHtml = 'Like what you see? Visit the ' +\n",
              "            '<a target=\"_blank\" href=https://colab.research.google.com/notebooks/data_table.ipynb>data table notebook</a>'\n",
              "            + ' to learn more about interactive tables.';\n",
              "          element.innerHTML = '';\n",
              "          dataTable['output_type'] = 'display_data';\n",
              "          await google.colab.output.renderOutput(dataTable, element);\n",
              "          const docLink = document.createElement('div');\n",
              "          docLink.innerHTML = docLinkHtml;\n",
              "          element.appendChild(docLink);\n",
              "        }\n",
              "      </script>\n",
              "    </div>\n",
              "  </div>\n",
              "  "
            ]
          },
          "metadata": {},
          "execution_count": 55
        }
      ]
    },
    {
      "cell_type": "code",
      "source": [
        "confusion_matrix(y_test,Rclf_preds)"
      ],
      "metadata": {
        "id": "3TYOem--t6za",
        "outputId": "fca411fc-01cc-4899-8921-bf254d54926f",
        "colab": {
          "base_uri": "https://localhost:8080/"
        }
      },
      "execution_count": null,
      "outputs": [
        {
          "output_type": "execute_result",
          "data": {
            "text/plain": [
              "array([[56233,   319],\n",
              "       [ 2591, 54155]])"
            ]
          },
          "metadata": {},
          "execution_count": 56
        }
      ]
    },
    {
      "cell_type": "code",
      "source": [
        "plot_confusion_matrix(Rclf, X_test, y_test,cmap='Blues')\n",
        "plt.title('RF: Confusion Matrix', fontsize=14)\n",
        "plt.show()"
      ],
      "metadata": {
        "id": "FxtnTc-suBc0",
        "outputId": "68d31714-de54-479a-e166-cfc1cb755a94",
        "colab": {
          "base_uri": "https://localhost:8080/",
          "height": 405
        }
      },
      "execution_count": null,
      "outputs": [
        {
          "output_type": "display_data",
          "data": {
            "text/plain": [
              "<Figure size 1008x432 with 2 Axes>"
            ],
            "image/png": "[encoded data removed]"
          },
          "metadata": {
            "needs_background": "light"
          }
        }
      ]
    },
    {
      "cell_type": "code",
      "source": [
        "print(f'\\t\\tRF Model has A:- \\n\\nAccuracy: {accuracy_score(y_test,Rclf_preds).round(4)}\\t\\trecall_Score: {recall_score(y_test,Rclf_preds).round(4)}\\nPrecision_score: {precision_score(y_test,Rclf_preds).round(4)}\\t\\tF1-score equals: {f1_score(y_test,Rclf_preds).round(4)}')"
      ],
      "metadata": {
        "id": "BudhrI22uFPL",
        "outputId": "4597da68-128f-4c70-bbbe-4963b2df90ad",
        "colab": {
          "base_uri": "https://localhost:8080/"
        }
      },
      "execution_count": null,
      "outputs": [
        {
          "output_type": "stream",
          "name": "stdout",
          "text": [
            "\t\tRF Model has A:- \n",
            "\n",
            "Accuracy: 0.9743\t\trecall_Score: 0.9543\n",
            "Precision_score: 0.9941\t\tF1-score equals: 0.9738\n"
          ]
        }
      ]
    },
    {
      "cell_type": "code",
      "source": [
        "from sklearn.metrics import classification_report\n",
        "print(classification_report(y_test, Rclf_preds))"
      ],
      "metadata": {
        "id": "9ArnS3ImuGXE",
        "outputId": "b8aa9658-e51b-46c8-8871-6b312bc8be69",
        "colab": {
          "base_uri": "https://localhost:8080/"
        }
      },
      "execution_count": null,
      "outputs": [
        {
          "output_type": "stream",
          "name": "stdout",
          "text": [
            "              precision    recall  f1-score   support\n",
            "\n",
            "           0       0.96      0.99      0.97     56552\n",
            "           1       0.99      0.95      0.97     56746\n",
            "\n",
            "    accuracy                           0.97    113298\n",
            "   macro avg       0.98      0.97      0.97    113298\n",
            "weighted avg       0.98      0.97      0.97    113298\n",
            "\n"
          ]
        }
      ]
    }
  ]
}