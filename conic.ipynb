{
  "nbformat": 4,
  "nbformat_minor": 0,
  "metadata": {
    "colab": {
      "provenance": [],
      "authorship_tag": "ABX9TyPjKhekDco9+BTkRNzihAiV",
      "include_colab_link": true
    },
    "kernelspec": {
      "name": "python3",
      "display_name": "Python 3"
    },
    "language_info": {
      "name": "python"
    }
  },
  "cells": [
    {
      "cell_type": "markdown",
      "metadata": {
        "id": "view-in-github",
        "colab_type": "text"
      },
      "source": [
        "<a href=\"https://colab.research.google.com/github/joe052/machine-learn/blob/main/conic.ipynb\" target=\"_parent\"><img src=\"https://colab.research.google.com/assets/colab-badge.svg\" alt=\"Open In Colab\"/></a>"
      ]
    },
    {
      "cell_type": "markdown",
      "source": [
        "Mount Google Drive for data"
      ],
      "metadata": {
        "id": "9Kh5rjw8F4f_"
      }
    },
    {
      "cell_type": "code",
      "source": [
        "from google.colab import drive\n",
        "drive.mount('/content/drive')\n",
        "# to unmount run the line below in a separate cell\n",
        "# drive.flush_and_unmount()"
      ],
      "metadata": {
        "colab": {
          "base_uri": "https://localhost:8080/"
        },
        "id": "utXCUUjnGC6N",
        "outputId": "2924baca-e7f8-494b-e761-92e8fb5073f2"
      },
      "execution_count": 1,
      "outputs": [
        {
          "output_type": "stream",
          "name": "stdout",
          "text": [
            "Mounted at /content/drive\n"
          ]
        }
      ]
    },
    {
      "cell_type": "markdown",
      "source": [
        "Read Data from drive"
      ],
      "metadata": {
        "id": "vMphzKTiJjAV"
      }
    },
    {
      "cell_type": "code",
      "source": [
        "import numpy as np\n",
        "import pandas as pd\n",
        "X\t= np.load('/content/drive/MyDrive/conicData/images.npy') #read images\n",
        "Y\t= pd.read_csv('/content/drive/MyDrive/conicData/counts.csv') #read cell counts\n",
        "F = np.loadtxt('/content/drive/MyDrive/conicData/split.txt') #read fold information\n"
      ],
      "metadata": {
        "id": "uTRhi02uG4E2"
      },
      "execution_count": null,
      "outputs": []
    }
  ]
}