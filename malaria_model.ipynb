{
  "nbformat": 4,
  "nbformat_minor": 0,
  "metadata": {
    "colab": {
      "provenance": [],
      "authorship_tag": "ABX9TyOwms1NsCZpUPFS6C1afEgK",
      "include_colab_link": true
    },
    "kernelspec": {
      "name": "python3",
      "display_name": "Python 3"
    },
    "language_info": {
      "name": "python"
    }
  },
  "cells": [
    {
      "cell_type": "markdown",
      "metadata": {
        "id": "view-in-github",
        "colab_type": "text"
      },
      "source": [
        "<a href=\"https://colab.research.google.com/github/joe052/machine-learn/blob/main/malaria_model.ipynb\" target=\"_parent\"><img src=\"https://colab.research.google.com/assets/colab-badge.svg\" alt=\"Open In Colab\"/></a>"
      ]
    },
    {
      "cell_type": "code",
      "execution_count": 1,
      "metadata": {
        "id": "6KiDQTbF7YkV"
      },
      "outputs": [],
      "source": [
        "import requests\n",
        "import zipfile\n",
        "import io\n",
        "\n",
        "# Define the URL of the NIH malaria dataset\n",
        "url = 'https://ceb.nlm.nih.gov/proj/malaria/cell_images.zip'\n"
      ]
    },
    {
      "cell_type": "code",
      "source": [
        "# Download the dataset from the URL and extract the images and masks\n",
        "response = requests.get(url)\n",
        "with zipfile.ZipFile(io.BytesIO(response.content), 'r') as zip_file:\n",
        "    zip_file.extractall('.')\n",
        "    \n",
        "# Define the directories for the images and masks\n",
        "image_dir = './cell_images/'\n",
        "mask_dir = './cell_masks/'\n",
        "\n",
        "# Create the directories if they do not exist\n",
        "if not os.path.exists(image_dir):\n",
        "    os.makedirs(image_dir)\n",
        "if not os.path.exists(mask_dir):\n",
        "    os.makedirs(mask_dir)"
      ],
      "metadata": {
        "id": "yWH3XnlL7oLm"
      },
      "execution_count": null,
      "outputs": []
    },
    {
      "cell_type": "code",
      "source": [
        "# Loop through the parasitized and uninfected subdirectories to create image/mask pairs\n",
        "for parasitized_dir in ['Parasitized']:\n",
        "    for image_name in os.listdir(image_dir + parasitized_dir):\n",
        "        # Load the image\n",
        "        image = cv2.imread(image_dir + parasitized_dir + '/' + image_name)\n",
        "        # Create the mask filename\n",
        "        mask_name = 'mask_' + image_name.split('.')[0] + '.png'\n",
        "        # Create the binary mask\n",
        "        mask = create_binary_mask(image)\n",
        "        # Save the mask\n",
        "        cv2.imwrite(mask_dir + mask_name, mask)\n",
        "\n",
        "for uninfected_dir in ['Uninfected']:\n",
        "    for image_name in os.listdir(image_dir + uninfected_dir):\n",
        "        # Load the image\n",
        "        image = cv2.imread(image_dir + uninfected_dir + '/' + image_name)\n",
        "        # Create the mask filename\n",
        "        mask_name = 'mask_' + image_name.split('.')[0] + '.png'\n",
        "        # Create the binary mask (all zeros since the cells are uninfected)\n",
        "        mask = np.zeros_like(image[:,:,0])\n",
        "        # Save the mask\n",
        "        cv2.imwrite(mask_dir + mask_name, mask)\n"
      ],
      "metadata": {
        "id": "u6tAFfz57tUG"
      },
      "execution_count": null,
      "outputs": []
    }
  ]
}